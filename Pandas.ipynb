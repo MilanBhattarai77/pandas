{
 "cells": [
  {
   "cell_type": "code",
   "execution_count": 3,
   "id": "b9d7a2e4",
   "metadata": {},
   "outputs": [],
   "source": [
    "#Object Creation"
   ]
  },
  {
   "cell_type": "code",
   "execution_count": 4,
   "id": "a024ebf7",
   "metadata": {},
   "outputs": [],
   "source": [
    "import numpy as np\n",
    "import pandas as pd"
   ]
  },
  {
   "cell_type": "code",
   "execution_count": 5,
   "id": "400fafa6",
   "metadata": {},
   "outputs": [
    {
     "data": {
      "text/plain": [
       "0    1.0\n",
       "1    2.0\n",
       "2    4.0\n",
       "3    5.0\n",
       "4    NaN\n",
       "5    6.0\n",
       "6    7.0\n",
       "dtype: float64"
      ]
     },
     "execution_count": 5,
     "metadata": {},
     "output_type": "execute_result"
    }
   ],
   "source": [
    "s=pd.Series([1,2,4,5,np.nan,6,7])\n",
    "s"
   ]
  },
  {
   "cell_type": "code",
   "execution_count": 6,
   "id": "cdcb3a47",
   "metadata": {},
   "outputs": [
    {
     "data": {
      "text/plain": [
       "DatetimeIndex(['2013-01-01', '2013-01-02', '2013-01-03', '2013-01-04',\n",
       "               '2013-01-05', '2013-01-06'],\n",
       "              dtype='datetime64[ns]', freq='D')"
      ]
     },
     "execution_count": 6,
     "metadata": {},
     "output_type": "execute_result"
    }
   ],
   "source": [
    "dates=pd.date_range(\"20130101\", periods=6)\n",
    "dates"
   ]
  },
  {
   "cell_type": "code",
   "execution_count": 7,
   "id": "68b0ada0",
   "metadata": {},
   "outputs": [
    {
     "data": {
      "text/html": [
       "<div>\n",
       "<style scoped>\n",
       "    .dataframe tbody tr th:only-of-type {\n",
       "        vertical-align: middle;\n",
       "    }\n",
       "\n",
       "    .dataframe tbody tr th {\n",
       "        vertical-align: top;\n",
       "    }\n",
       "\n",
       "    .dataframe thead th {\n",
       "        text-align: right;\n",
       "    }\n",
       "</style>\n",
       "<table border=\"1\" class=\"dataframe\">\n",
       "  <thead>\n",
       "    <tr style=\"text-align: right;\">\n",
       "      <th></th>\n",
       "      <th>A</th>\n",
       "      <th>B</th>\n",
       "      <th>C</th>\n",
       "      <th>D</th>\n",
       "    </tr>\n",
       "  </thead>\n",
       "  <tbody>\n",
       "    <tr>\n",
       "      <th>2013-01-01</th>\n",
       "      <td>-1.443971</td>\n",
       "      <td>-1.264969</td>\n",
       "      <td>-1.514498</td>\n",
       "      <td>0.379825</td>\n",
       "    </tr>\n",
       "    <tr>\n",
       "      <th>2013-01-02</th>\n",
       "      <td>-0.297073</td>\n",
       "      <td>-1.698189</td>\n",
       "      <td>0.025104</td>\n",
       "      <td>0.654576</td>\n",
       "    </tr>\n",
       "    <tr>\n",
       "      <th>2013-01-03</th>\n",
       "      <td>1.166979</td>\n",
       "      <td>0.132292</td>\n",
       "      <td>0.393677</td>\n",
       "      <td>0.576973</td>\n",
       "    </tr>\n",
       "    <tr>\n",
       "      <th>2013-01-04</th>\n",
       "      <td>-1.596401</td>\n",
       "      <td>2.048516</td>\n",
       "      <td>0.003408</td>\n",
       "      <td>1.202181</td>\n",
       "    </tr>\n",
       "    <tr>\n",
       "      <th>2013-01-05</th>\n",
       "      <td>-0.981598</td>\n",
       "      <td>-0.917616</td>\n",
       "      <td>1.831406</td>\n",
       "      <td>-1.270526</td>\n",
       "    </tr>\n",
       "    <tr>\n",
       "      <th>2013-01-06</th>\n",
       "      <td>0.168124</td>\n",
       "      <td>-1.520638</td>\n",
       "      <td>-1.004770</td>\n",
       "      <td>0.385805</td>\n",
       "    </tr>\n",
       "  </tbody>\n",
       "</table>\n",
       "</div>"
      ],
      "text/plain": [
       "                   A         B         C         D\n",
       "2013-01-01 -1.443971 -1.264969 -1.514498  0.379825\n",
       "2013-01-02 -0.297073 -1.698189  0.025104  0.654576\n",
       "2013-01-03  1.166979  0.132292  0.393677  0.576973\n",
       "2013-01-04 -1.596401  2.048516  0.003408  1.202181\n",
       "2013-01-05 -0.981598 -0.917616  1.831406 -1.270526\n",
       "2013-01-06  0.168124 -1.520638 -1.004770  0.385805"
      ]
     },
     "execution_count": 7,
     "metadata": {},
     "output_type": "execute_result"
    }
   ],
   "source": [
    "df=pd.DataFrame(np.random.randn(6,4), index=dates, columns=list(\"ABCD\"))\n",
    "df"
   ]
  },
  {
   "cell_type": "code",
   "execution_count": 8,
   "id": "bd3a13a2",
   "metadata": {},
   "outputs": [
    {
     "data": {
      "text/html": [
       "<div>\n",
       "<style scoped>\n",
       "    .dataframe tbody tr th:only-of-type {\n",
       "        vertical-align: middle;\n",
       "    }\n",
       "\n",
       "    .dataframe tbody tr th {\n",
       "        vertical-align: top;\n",
       "    }\n",
       "\n",
       "    .dataframe thead th {\n",
       "        text-align: right;\n",
       "    }\n",
       "</style>\n",
       "<table border=\"1\" class=\"dataframe\">\n",
       "  <thead>\n",
       "    <tr style=\"text-align: right;\">\n",
       "      <th></th>\n",
       "      <th>A</th>\n",
       "      <th>B</th>\n",
       "      <th>C</th>\n",
       "      <th>D</th>\n",
       "      <th>E</th>\n",
       "      <th>F</th>\n",
       "    </tr>\n",
       "  </thead>\n",
       "  <tbody>\n",
       "    <tr>\n",
       "      <th>0</th>\n",
       "      <td>1.0</td>\n",
       "      <td>2013-01-02</td>\n",
       "      <td>1.0</td>\n",
       "      <td>3</td>\n",
       "      <td>test</td>\n",
       "      <td>foo</td>\n",
       "    </tr>\n",
       "    <tr>\n",
       "      <th>1</th>\n",
       "      <td>1.0</td>\n",
       "      <td>2013-01-02</td>\n",
       "      <td>1.0</td>\n",
       "      <td>3</td>\n",
       "      <td>train</td>\n",
       "      <td>foo</td>\n",
       "    </tr>\n",
       "    <tr>\n",
       "      <th>2</th>\n",
       "      <td>1.0</td>\n",
       "      <td>2013-01-02</td>\n",
       "      <td>1.0</td>\n",
       "      <td>3</td>\n",
       "      <td>test</td>\n",
       "      <td>foo</td>\n",
       "    </tr>\n",
       "    <tr>\n",
       "      <th>3</th>\n",
       "      <td>1.0</td>\n",
       "      <td>2013-01-02</td>\n",
       "      <td>1.0</td>\n",
       "      <td>3</td>\n",
       "      <td>train</td>\n",
       "      <td>foo</td>\n",
       "    </tr>\n",
       "  </tbody>\n",
       "</table>\n",
       "</div>"
      ],
      "text/plain": [
       "     A          B    C  D      E    F\n",
       "0  1.0 2013-01-02  1.0  3   test  foo\n",
       "1  1.0 2013-01-02  1.0  3  train  foo\n",
       "2  1.0 2013-01-02  1.0  3   test  foo\n",
       "3  1.0 2013-01-02  1.0  3  train  foo"
      ]
     },
     "execution_count": 8,
     "metadata": {},
     "output_type": "execute_result"
    }
   ],
   "source": [
    "df2=pd.DataFrame(\n",
    "{\n",
    "    \"A\":1.0,\n",
    "    \"B\":pd.Timestamp(\"20130102\"),\n",
    "    \"C\":pd.Series(1, index=list(range(4)), dtype=\"float32\"),\n",
    "    \"D\":np.array([3]*4, dtype=\"int32\"),\n",
    "    \"E\":pd.Categorical([\"test\",\"train\", \"test\", \"train\"]),\n",
    "    \"F\":\"foo\"\n",
    "})\n",
    "df2"
   ]
  },
  {
   "cell_type": "code",
   "execution_count": 9,
   "id": "6f8a3f26",
   "metadata": {},
   "outputs": [
    {
     "data": {
      "text/plain": [
       "A           float64\n",
       "B    datetime64[ns]\n",
       "C           float32\n",
       "D             int32\n",
       "E          category\n",
       "F            object\n",
       "dtype: object"
      ]
     },
     "execution_count": 9,
     "metadata": {},
     "output_type": "execute_result"
    }
   ],
   "source": [
    "df2.dtypes"
   ]
  },
  {
   "cell_type": "code",
   "execution_count": 10,
   "id": "599ce8f8",
   "metadata": {},
   "outputs": [
    {
     "data": {
      "text/plain": [
       "'In [12]: df2.<TAB>  # noqa: E225, E999\\ndf2.A                  df2.bool\\ndf2.abs                df2.boxplot\\ndf2.add                df2.C\\ndf2.add_prefix         df2.clip\\ndf2.add_suffix         df2.columns\\ndf2.align              df2.copy\\ndf2.all                df2.count\\ndf2.any                df2.combine\\ndf2.append             df2.D\\ndf2.apply              df2.describe\\ndf2.applymap           df2.diff\\ndf2.B                  df2.duplicated'"
      ]
     },
     "execution_count": 10,
     "metadata": {},
     "output_type": "execute_result"
    }
   ],
   "source": [
    "#It is a sunbset of attribute that will be completed\n",
    "\n",
    "\"\"\"In [12]: df2.<TAB>  # noqa: E225, E999\n",
    "df2.A                  df2.bool\n",
    "df2.abs                df2.boxplot\n",
    "df2.add                df2.C\n",
    "df2.add_prefix         df2.clip\n",
    "df2.add_suffix         df2.columns\n",
    "df2.align              df2.copy\n",
    "df2.all                df2.count\n",
    "df2.any                df2.combine\n",
    "df2.append             df2.D\n",
    "df2.apply              df2.describe\n",
    "df2.applymap           df2.diff\n",
    "df2.B                  df2.duplicated\"\"\""
   ]
  },
  {
   "cell_type": "code",
   "execution_count": null,
   "id": "88032115",
   "metadata": {},
   "outputs": [],
   "source": []
  },
  {
   "cell_type": "code",
   "execution_count": null,
   "id": "7f41795b",
   "metadata": {},
   "outputs": [],
   "source": []
  },
  {
   "cell_type": "code",
   "execution_count": null,
   "id": "3a07f731",
   "metadata": {},
   "outputs": [],
   "source": []
  },
  {
   "cell_type": "code",
   "execution_count": 11,
   "id": "05b452a4",
   "metadata": {},
   "outputs": [],
   "source": [
    "#Viewing Data"
   ]
  },
  {
   "cell_type": "code",
   "execution_count": 12,
   "id": "fd810ea4",
   "metadata": {},
   "outputs": [
    {
     "data": {
      "text/html": [
       "<div>\n",
       "<style scoped>\n",
       "    .dataframe tbody tr th:only-of-type {\n",
       "        vertical-align: middle;\n",
       "    }\n",
       "\n",
       "    .dataframe tbody tr th {\n",
       "        vertical-align: top;\n",
       "    }\n",
       "\n",
       "    .dataframe thead th {\n",
       "        text-align: right;\n",
       "    }\n",
       "</style>\n",
       "<table border=\"1\" class=\"dataframe\">\n",
       "  <thead>\n",
       "    <tr style=\"text-align: right;\">\n",
       "      <th></th>\n",
       "      <th>A</th>\n",
       "      <th>B</th>\n",
       "      <th>C</th>\n",
       "      <th>D</th>\n",
       "    </tr>\n",
       "  </thead>\n",
       "  <tbody>\n",
       "    <tr>\n",
       "      <th>2013-01-01</th>\n",
       "      <td>-1.443971</td>\n",
       "      <td>-1.264969</td>\n",
       "      <td>-1.514498</td>\n",
       "      <td>0.379825</td>\n",
       "    </tr>\n",
       "    <tr>\n",
       "      <th>2013-01-02</th>\n",
       "      <td>-0.297073</td>\n",
       "      <td>-1.698189</td>\n",
       "      <td>0.025104</td>\n",
       "      <td>0.654576</td>\n",
       "    </tr>\n",
       "    <tr>\n",
       "      <th>2013-01-03</th>\n",
       "      <td>1.166979</td>\n",
       "      <td>0.132292</td>\n",
       "      <td>0.393677</td>\n",
       "      <td>0.576973</td>\n",
       "    </tr>\n",
       "    <tr>\n",
       "      <th>2013-01-04</th>\n",
       "      <td>-1.596401</td>\n",
       "      <td>2.048516</td>\n",
       "      <td>0.003408</td>\n",
       "      <td>1.202181</td>\n",
       "    </tr>\n",
       "    <tr>\n",
       "      <th>2013-01-05</th>\n",
       "      <td>-0.981598</td>\n",
       "      <td>-0.917616</td>\n",
       "      <td>1.831406</td>\n",
       "      <td>-1.270526</td>\n",
       "    </tr>\n",
       "  </tbody>\n",
       "</table>\n",
       "</div>"
      ],
      "text/plain": [
       "                   A         B         C         D\n",
       "2013-01-01 -1.443971 -1.264969 -1.514498  0.379825\n",
       "2013-01-02 -0.297073 -1.698189  0.025104  0.654576\n",
       "2013-01-03  1.166979  0.132292  0.393677  0.576973\n",
       "2013-01-04 -1.596401  2.048516  0.003408  1.202181\n",
       "2013-01-05 -0.981598 -0.917616  1.831406 -1.270526"
      ]
     },
     "execution_count": 12,
     "metadata": {},
     "output_type": "execute_result"
    }
   ],
   "source": [
    "df.head()"
   ]
  },
  {
   "cell_type": "code",
   "execution_count": 13,
   "id": "acb1e900",
   "metadata": {},
   "outputs": [
    {
     "data": {
      "text/html": [
       "<div>\n",
       "<style scoped>\n",
       "    .dataframe tbody tr th:only-of-type {\n",
       "        vertical-align: middle;\n",
       "    }\n",
       "\n",
       "    .dataframe tbody tr th {\n",
       "        vertical-align: top;\n",
       "    }\n",
       "\n",
       "    .dataframe thead th {\n",
       "        text-align: right;\n",
       "    }\n",
       "</style>\n",
       "<table border=\"1\" class=\"dataframe\">\n",
       "  <thead>\n",
       "    <tr style=\"text-align: right;\">\n",
       "      <th></th>\n",
       "      <th>A</th>\n",
       "      <th>B</th>\n",
       "      <th>C</th>\n",
       "      <th>D</th>\n",
       "    </tr>\n",
       "  </thead>\n",
       "  <tbody>\n",
       "    <tr>\n",
       "      <th>2013-01-02</th>\n",
       "      <td>-0.297073</td>\n",
       "      <td>-1.698189</td>\n",
       "      <td>0.025104</td>\n",
       "      <td>0.654576</td>\n",
       "    </tr>\n",
       "    <tr>\n",
       "      <th>2013-01-03</th>\n",
       "      <td>1.166979</td>\n",
       "      <td>0.132292</td>\n",
       "      <td>0.393677</td>\n",
       "      <td>0.576973</td>\n",
       "    </tr>\n",
       "    <tr>\n",
       "      <th>2013-01-04</th>\n",
       "      <td>-1.596401</td>\n",
       "      <td>2.048516</td>\n",
       "      <td>0.003408</td>\n",
       "      <td>1.202181</td>\n",
       "    </tr>\n",
       "    <tr>\n",
       "      <th>2013-01-05</th>\n",
       "      <td>-0.981598</td>\n",
       "      <td>-0.917616</td>\n",
       "      <td>1.831406</td>\n",
       "      <td>-1.270526</td>\n",
       "    </tr>\n",
       "    <tr>\n",
       "      <th>2013-01-06</th>\n",
       "      <td>0.168124</td>\n",
       "      <td>-1.520638</td>\n",
       "      <td>-1.004770</td>\n",
       "      <td>0.385805</td>\n",
       "    </tr>\n",
       "  </tbody>\n",
       "</table>\n",
       "</div>"
      ],
      "text/plain": [
       "                   A         B         C         D\n",
       "2013-01-02 -0.297073 -1.698189  0.025104  0.654576\n",
       "2013-01-03  1.166979  0.132292  0.393677  0.576973\n",
       "2013-01-04 -1.596401  2.048516  0.003408  1.202181\n",
       "2013-01-05 -0.981598 -0.917616  1.831406 -1.270526\n",
       "2013-01-06  0.168124 -1.520638 -1.004770  0.385805"
      ]
     },
     "execution_count": 13,
     "metadata": {},
     "output_type": "execute_result"
    }
   ],
   "source": [
    "df.tail()"
   ]
  },
  {
   "cell_type": "code",
   "execution_count": 14,
   "id": "18675026",
   "metadata": {},
   "outputs": [
    {
     "data": {
      "text/plain": [
       "DatetimeIndex(['2013-01-01', '2013-01-02', '2013-01-03', '2013-01-04',\n",
       "               '2013-01-05', '2013-01-06'],\n",
       "              dtype='datetime64[ns]', freq='D')"
      ]
     },
     "execution_count": 14,
     "metadata": {},
     "output_type": "execute_result"
    }
   ],
   "source": [
    "df.index"
   ]
  },
  {
   "cell_type": "code",
   "execution_count": 15,
   "id": "a53a2b21",
   "metadata": {},
   "outputs": [
    {
     "data": {
      "text/plain": [
       "Index(['A', 'B', 'C', 'D'], dtype='object')"
      ]
     },
     "execution_count": 15,
     "metadata": {},
     "output_type": "execute_result"
    }
   ],
   "source": [
    "df.columns"
   ]
  },
  {
   "cell_type": "code",
   "execution_count": 16,
   "id": "613e9f99",
   "metadata": {},
   "outputs": [
    {
     "data": {
      "text/plain": [
       "array([[-1.44397134, -1.2649694 , -1.5144982 ,  0.37982515],\n",
       "       [-0.29707314, -1.69818939,  0.02510446,  0.65457586],\n",
       "       [ 1.16697878,  0.13229213,  0.39367731,  0.57697349],\n",
       "       [-1.59640052,  2.04851569,  0.00340762,  1.20218112],\n",
       "       [-0.98159836, -0.91761591,  1.83140606, -1.27052553],\n",
       "       [ 0.16812431, -1.52063831, -1.00476998,  0.38580459]])"
      ]
     },
     "execution_count": 16,
     "metadata": {},
     "output_type": "execute_result"
    }
   ],
   "source": [
    "df.to_numpy()"
   ]
  },
  {
   "cell_type": "code",
   "execution_count": 17,
   "id": "63e0fe76",
   "metadata": {},
   "outputs": [
    {
     "data": {
      "text/plain": [
       "A           float64\n",
       "B    datetime64[ns]\n",
       "C           float32\n",
       "D             int32\n",
       "E          category\n",
       "F            object\n",
       "dtype: object"
      ]
     },
     "execution_count": 17,
     "metadata": {},
     "output_type": "execute_result"
    }
   ],
   "source": [
    "df2.dtypes"
   ]
  },
  {
   "cell_type": "code",
   "execution_count": 18,
   "id": "705e03a6",
   "metadata": {},
   "outputs": [
    {
     "data": {
      "text/plain": [
       "array([[1.0, Timestamp('2013-01-02 00:00:00'), 1.0, 3, 'test', 'foo'],\n",
       "       [1.0, Timestamp('2013-01-02 00:00:00'), 1.0, 3, 'train', 'foo'],\n",
       "       [1.0, Timestamp('2013-01-02 00:00:00'), 1.0, 3, 'test', 'foo'],\n",
       "       [1.0, Timestamp('2013-01-02 00:00:00'), 1.0, 3, 'train', 'foo']],\n",
       "      dtype=object)"
      ]
     },
     "execution_count": 18,
     "metadata": {},
     "output_type": "execute_result"
    }
   ],
   "source": [
    "df2.to_numpy()"
   ]
  },
  {
   "cell_type": "code",
   "execution_count": 19,
   "id": "96e101d3",
   "metadata": {},
   "outputs": [
    {
     "data": {
      "text/html": [
       "<div>\n",
       "<style scoped>\n",
       "    .dataframe tbody tr th:only-of-type {\n",
       "        vertical-align: middle;\n",
       "    }\n",
       "\n",
       "    .dataframe tbody tr th {\n",
       "        vertical-align: top;\n",
       "    }\n",
       "\n",
       "    .dataframe thead th {\n",
       "        text-align: right;\n",
       "    }\n",
       "</style>\n",
       "<table border=\"1\" class=\"dataframe\">\n",
       "  <thead>\n",
       "    <tr style=\"text-align: right;\">\n",
       "      <th></th>\n",
       "      <th>A</th>\n",
       "      <th>B</th>\n",
       "      <th>C</th>\n",
       "      <th>D</th>\n",
       "    </tr>\n",
       "  </thead>\n",
       "  <tbody>\n",
       "    <tr>\n",
       "      <th>count</th>\n",
       "      <td>6.000000</td>\n",
       "      <td>6.000000</td>\n",
       "      <td>6.000000</td>\n",
       "      <td>6.000000</td>\n",
       "    </tr>\n",
       "    <tr>\n",
       "      <th>mean</th>\n",
       "      <td>-0.497323</td>\n",
       "      <td>-0.536768</td>\n",
       "      <td>-0.044279</td>\n",
       "      <td>0.321472</td>\n",
       "    </tr>\n",
       "    <tr>\n",
       "      <th>std</th>\n",
       "      <td>1.057493</td>\n",
       "      <td>1.422923</td>\n",
       "      <td>1.166291</td>\n",
       "      <td>0.835929</td>\n",
       "    </tr>\n",
       "    <tr>\n",
       "      <th>min</th>\n",
       "      <td>-1.596401</td>\n",
       "      <td>-1.698189</td>\n",
       "      <td>-1.514498</td>\n",
       "      <td>-1.270526</td>\n",
       "    </tr>\n",
       "    <tr>\n",
       "      <th>25%</th>\n",
       "      <td>-1.328378</td>\n",
       "      <td>-1.456721</td>\n",
       "      <td>-0.752726</td>\n",
       "      <td>0.381320</td>\n",
       "    </tr>\n",
       "    <tr>\n",
       "      <th>50%</th>\n",
       "      <td>-0.639336</td>\n",
       "      <td>-1.091293</td>\n",
       "      <td>0.014256</td>\n",
       "      <td>0.481389</td>\n",
       "    </tr>\n",
       "    <tr>\n",
       "      <th>75%</th>\n",
       "      <td>0.051825</td>\n",
       "      <td>-0.130185</td>\n",
       "      <td>0.301534</td>\n",
       "      <td>0.635175</td>\n",
       "    </tr>\n",
       "    <tr>\n",
       "      <th>max</th>\n",
       "      <td>1.166979</td>\n",
       "      <td>2.048516</td>\n",
       "      <td>1.831406</td>\n",
       "      <td>1.202181</td>\n",
       "    </tr>\n",
       "  </tbody>\n",
       "</table>\n",
       "</div>"
      ],
      "text/plain": [
       "              A         B         C         D\n",
       "count  6.000000  6.000000  6.000000  6.000000\n",
       "mean  -0.497323 -0.536768 -0.044279  0.321472\n",
       "std    1.057493  1.422923  1.166291  0.835929\n",
       "min   -1.596401 -1.698189 -1.514498 -1.270526\n",
       "25%   -1.328378 -1.456721 -0.752726  0.381320\n",
       "50%   -0.639336 -1.091293  0.014256  0.481389\n",
       "75%    0.051825 -0.130185  0.301534  0.635175\n",
       "max    1.166979  2.048516  1.831406  1.202181"
      ]
     },
     "execution_count": 19,
     "metadata": {},
     "output_type": "execute_result"
    }
   ],
   "source": [
    "df.describe()"
   ]
  },
  {
   "cell_type": "code",
   "execution_count": 20,
   "id": "c3a9c8c7",
   "metadata": {},
   "outputs": [
    {
     "data": {
      "text/html": [
       "<div>\n",
       "<style scoped>\n",
       "    .dataframe tbody tr th:only-of-type {\n",
       "        vertical-align: middle;\n",
       "    }\n",
       "\n",
       "    .dataframe tbody tr th {\n",
       "        vertical-align: top;\n",
       "    }\n",
       "\n",
       "    .dataframe thead th {\n",
       "        text-align: right;\n",
       "    }\n",
       "</style>\n",
       "<table border=\"1\" class=\"dataframe\">\n",
       "  <thead>\n",
       "    <tr style=\"text-align: right;\">\n",
       "      <th></th>\n",
       "      <th>2013-01-01</th>\n",
       "      <th>2013-01-02</th>\n",
       "      <th>2013-01-03</th>\n",
       "      <th>2013-01-04</th>\n",
       "      <th>2013-01-05</th>\n",
       "      <th>2013-01-06</th>\n",
       "    </tr>\n",
       "  </thead>\n",
       "  <tbody>\n",
       "    <tr>\n",
       "      <th>A</th>\n",
       "      <td>-1.443971</td>\n",
       "      <td>-0.297073</td>\n",
       "      <td>1.166979</td>\n",
       "      <td>-1.596401</td>\n",
       "      <td>-0.981598</td>\n",
       "      <td>0.168124</td>\n",
       "    </tr>\n",
       "    <tr>\n",
       "      <th>B</th>\n",
       "      <td>-1.264969</td>\n",
       "      <td>-1.698189</td>\n",
       "      <td>0.132292</td>\n",
       "      <td>2.048516</td>\n",
       "      <td>-0.917616</td>\n",
       "      <td>-1.520638</td>\n",
       "    </tr>\n",
       "    <tr>\n",
       "      <th>C</th>\n",
       "      <td>-1.514498</td>\n",
       "      <td>0.025104</td>\n",
       "      <td>0.393677</td>\n",
       "      <td>0.003408</td>\n",
       "      <td>1.831406</td>\n",
       "      <td>-1.004770</td>\n",
       "    </tr>\n",
       "    <tr>\n",
       "      <th>D</th>\n",
       "      <td>0.379825</td>\n",
       "      <td>0.654576</td>\n",
       "      <td>0.576973</td>\n",
       "      <td>1.202181</td>\n",
       "      <td>-1.270526</td>\n",
       "      <td>0.385805</td>\n",
       "    </tr>\n",
       "  </tbody>\n",
       "</table>\n",
       "</div>"
      ],
      "text/plain": [
       "   2013-01-01  2013-01-02  2013-01-03  2013-01-04  2013-01-05  2013-01-06\n",
       "A   -1.443971   -0.297073    1.166979   -1.596401   -0.981598    0.168124\n",
       "B   -1.264969   -1.698189    0.132292    2.048516   -0.917616   -1.520638\n",
       "C   -1.514498    0.025104    0.393677    0.003408    1.831406   -1.004770\n",
       "D    0.379825    0.654576    0.576973    1.202181   -1.270526    0.385805"
      ]
     },
     "execution_count": 20,
     "metadata": {},
     "output_type": "execute_result"
    }
   ],
   "source": [
    "df.T"
   ]
  },
  {
   "cell_type": "code",
   "execution_count": 21,
   "id": "9c3fadd3",
   "metadata": {},
   "outputs": [
    {
     "data": {
      "text/html": [
       "<div>\n",
       "<style scoped>\n",
       "    .dataframe tbody tr th:only-of-type {\n",
       "        vertical-align: middle;\n",
       "    }\n",
       "\n",
       "    .dataframe tbody tr th {\n",
       "        vertical-align: top;\n",
       "    }\n",
       "\n",
       "    .dataframe thead th {\n",
       "        text-align: right;\n",
       "    }\n",
       "</style>\n",
       "<table border=\"1\" class=\"dataframe\">\n",
       "  <thead>\n",
       "    <tr style=\"text-align: right;\">\n",
       "      <th></th>\n",
       "      <th>D</th>\n",
       "      <th>C</th>\n",
       "      <th>B</th>\n",
       "      <th>A</th>\n",
       "    </tr>\n",
       "  </thead>\n",
       "  <tbody>\n",
       "    <tr>\n",
       "      <th>2013-01-01</th>\n",
       "      <td>0.379825</td>\n",
       "      <td>-1.514498</td>\n",
       "      <td>-1.264969</td>\n",
       "      <td>-1.443971</td>\n",
       "    </tr>\n",
       "    <tr>\n",
       "      <th>2013-01-02</th>\n",
       "      <td>0.654576</td>\n",
       "      <td>0.025104</td>\n",
       "      <td>-1.698189</td>\n",
       "      <td>-0.297073</td>\n",
       "    </tr>\n",
       "    <tr>\n",
       "      <th>2013-01-03</th>\n",
       "      <td>0.576973</td>\n",
       "      <td>0.393677</td>\n",
       "      <td>0.132292</td>\n",
       "      <td>1.166979</td>\n",
       "    </tr>\n",
       "    <tr>\n",
       "      <th>2013-01-04</th>\n",
       "      <td>1.202181</td>\n",
       "      <td>0.003408</td>\n",
       "      <td>2.048516</td>\n",
       "      <td>-1.596401</td>\n",
       "    </tr>\n",
       "    <tr>\n",
       "      <th>2013-01-05</th>\n",
       "      <td>-1.270526</td>\n",
       "      <td>1.831406</td>\n",
       "      <td>-0.917616</td>\n",
       "      <td>-0.981598</td>\n",
       "    </tr>\n",
       "    <tr>\n",
       "      <th>2013-01-06</th>\n",
       "      <td>0.385805</td>\n",
       "      <td>-1.004770</td>\n",
       "      <td>-1.520638</td>\n",
       "      <td>0.168124</td>\n",
       "    </tr>\n",
       "  </tbody>\n",
       "</table>\n",
       "</div>"
      ],
      "text/plain": [
       "                   D         C         B         A\n",
       "2013-01-01  0.379825 -1.514498 -1.264969 -1.443971\n",
       "2013-01-02  0.654576  0.025104 -1.698189 -0.297073\n",
       "2013-01-03  0.576973  0.393677  0.132292  1.166979\n",
       "2013-01-04  1.202181  0.003408  2.048516 -1.596401\n",
       "2013-01-05 -1.270526  1.831406 -0.917616 -0.981598\n",
       "2013-01-06  0.385805 -1.004770 -1.520638  0.168124"
      ]
     },
     "execution_count": 21,
     "metadata": {},
     "output_type": "execute_result"
    }
   ],
   "source": [
    "df.sort_index(axis=1, ascending=False)"
   ]
  },
  {
   "cell_type": "code",
   "execution_count": 22,
   "id": "e388203f",
   "metadata": {},
   "outputs": [
    {
     "data": {
      "text/html": [
       "<div>\n",
       "<style scoped>\n",
       "    .dataframe tbody tr th:only-of-type {\n",
       "        vertical-align: middle;\n",
       "    }\n",
       "\n",
       "    .dataframe tbody tr th {\n",
       "        vertical-align: top;\n",
       "    }\n",
       "\n",
       "    .dataframe thead th {\n",
       "        text-align: right;\n",
       "    }\n",
       "</style>\n",
       "<table border=\"1\" class=\"dataframe\">\n",
       "  <thead>\n",
       "    <tr style=\"text-align: right;\">\n",
       "      <th></th>\n",
       "      <th>A</th>\n",
       "      <th>B</th>\n",
       "      <th>C</th>\n",
       "      <th>D</th>\n",
       "    </tr>\n",
       "  </thead>\n",
       "  <tbody>\n",
       "    <tr>\n",
       "      <th>2013-01-02</th>\n",
       "      <td>-0.297073</td>\n",
       "      <td>-1.698189</td>\n",
       "      <td>0.025104</td>\n",
       "      <td>0.654576</td>\n",
       "    </tr>\n",
       "    <tr>\n",
       "      <th>2013-01-06</th>\n",
       "      <td>0.168124</td>\n",
       "      <td>-1.520638</td>\n",
       "      <td>-1.004770</td>\n",
       "      <td>0.385805</td>\n",
       "    </tr>\n",
       "    <tr>\n",
       "      <th>2013-01-01</th>\n",
       "      <td>-1.443971</td>\n",
       "      <td>-1.264969</td>\n",
       "      <td>-1.514498</td>\n",
       "      <td>0.379825</td>\n",
       "    </tr>\n",
       "    <tr>\n",
       "      <th>2013-01-05</th>\n",
       "      <td>-0.981598</td>\n",
       "      <td>-0.917616</td>\n",
       "      <td>1.831406</td>\n",
       "      <td>-1.270526</td>\n",
       "    </tr>\n",
       "    <tr>\n",
       "      <th>2013-01-03</th>\n",
       "      <td>1.166979</td>\n",
       "      <td>0.132292</td>\n",
       "      <td>0.393677</td>\n",
       "      <td>0.576973</td>\n",
       "    </tr>\n",
       "    <tr>\n",
       "      <th>2013-01-04</th>\n",
       "      <td>-1.596401</td>\n",
       "      <td>2.048516</td>\n",
       "      <td>0.003408</td>\n",
       "      <td>1.202181</td>\n",
       "    </tr>\n",
       "  </tbody>\n",
       "</table>\n",
       "</div>"
      ],
      "text/plain": [
       "                   A         B         C         D\n",
       "2013-01-02 -0.297073 -1.698189  0.025104  0.654576\n",
       "2013-01-06  0.168124 -1.520638 -1.004770  0.385805\n",
       "2013-01-01 -1.443971 -1.264969 -1.514498  0.379825\n",
       "2013-01-05 -0.981598 -0.917616  1.831406 -1.270526\n",
       "2013-01-03  1.166979  0.132292  0.393677  0.576973\n",
       "2013-01-04 -1.596401  2.048516  0.003408  1.202181"
      ]
     },
     "execution_count": 22,
     "metadata": {},
     "output_type": "execute_result"
    }
   ],
   "source": [
    "df.sort_values(by=\"B\")"
   ]
  },
  {
   "cell_type": "code",
   "execution_count": null,
   "id": "b973bb8f",
   "metadata": {},
   "outputs": [],
   "source": []
  },
  {
   "cell_type": "code",
   "execution_count": null,
   "id": "363e4759",
   "metadata": {},
   "outputs": [],
   "source": []
  },
  {
   "cell_type": "code",
   "execution_count": null,
   "id": "1e235e94",
   "metadata": {},
   "outputs": [],
   "source": []
  },
  {
   "cell_type": "code",
   "execution_count": 23,
   "id": "d74323d2",
   "metadata": {},
   "outputs": [],
   "source": [
    "#Selection"
   ]
  },
  {
   "cell_type": "code",
   "execution_count": 24,
   "id": "81b42486",
   "metadata": {},
   "outputs": [],
   "source": [
    "#Getitem []"
   ]
  },
  {
   "cell_type": "code",
   "execution_count": 25,
   "id": "48bcc808",
   "metadata": {},
   "outputs": [
    {
     "data": {
      "text/plain": [
       "2013-01-01   -1.443971\n",
       "2013-01-02   -0.297073\n",
       "2013-01-03    1.166979\n",
       "2013-01-04   -1.596401\n",
       "2013-01-05   -0.981598\n",
       "2013-01-06    0.168124\n",
       "Freq: D, Name: A, dtype: float64"
      ]
     },
     "execution_count": 25,
     "metadata": {},
     "output_type": "execute_result"
    }
   ],
   "source": [
    "df[\"A\"]"
   ]
  },
  {
   "cell_type": "code",
   "execution_count": 26,
   "id": "50e0ac9f",
   "metadata": {},
   "outputs": [
    {
     "data": {
      "text/html": [
       "<div>\n",
       "<style scoped>\n",
       "    .dataframe tbody tr th:only-of-type {\n",
       "        vertical-align: middle;\n",
       "    }\n",
       "\n",
       "    .dataframe tbody tr th {\n",
       "        vertical-align: top;\n",
       "    }\n",
       "\n",
       "    .dataframe thead th {\n",
       "        text-align: right;\n",
       "    }\n",
       "</style>\n",
       "<table border=\"1\" class=\"dataframe\">\n",
       "  <thead>\n",
       "    <tr style=\"text-align: right;\">\n",
       "      <th></th>\n",
       "      <th>A</th>\n",
       "      <th>B</th>\n",
       "      <th>C</th>\n",
       "      <th>D</th>\n",
       "    </tr>\n",
       "  </thead>\n",
       "  <tbody>\n",
       "    <tr>\n",
       "      <th>2013-01-01</th>\n",
       "      <td>-1.443971</td>\n",
       "      <td>-1.264969</td>\n",
       "      <td>-1.514498</td>\n",
       "      <td>0.379825</td>\n",
       "    </tr>\n",
       "    <tr>\n",
       "      <th>2013-01-02</th>\n",
       "      <td>-0.297073</td>\n",
       "      <td>-1.698189</td>\n",
       "      <td>0.025104</td>\n",
       "      <td>0.654576</td>\n",
       "    </tr>\n",
       "    <tr>\n",
       "      <th>2013-01-03</th>\n",
       "      <td>1.166979</td>\n",
       "      <td>0.132292</td>\n",
       "      <td>0.393677</td>\n",
       "      <td>0.576973</td>\n",
       "    </tr>\n",
       "  </tbody>\n",
       "</table>\n",
       "</div>"
      ],
      "text/plain": [
       "                   A         B         C         D\n",
       "2013-01-01 -1.443971 -1.264969 -1.514498  0.379825\n",
       "2013-01-02 -0.297073 -1.698189  0.025104  0.654576\n",
       "2013-01-03  1.166979  0.132292  0.393677  0.576973"
      ]
     },
     "execution_count": 26,
     "metadata": {},
     "output_type": "execute_result"
    }
   ],
   "source": [
    "df[0:3]"
   ]
  },
  {
   "cell_type": "code",
   "execution_count": null,
   "id": "2161fd33",
   "metadata": {},
   "outputs": [],
   "source": []
  },
  {
   "cell_type": "code",
   "execution_count": 27,
   "id": "afea7540",
   "metadata": {},
   "outputs": [],
   "source": [
    "#Selection by levels"
   ]
  },
  {
   "cell_type": "code",
   "execution_count": 28,
   "id": "588b3617",
   "metadata": {},
   "outputs": [
    {
     "data": {
      "text/plain": [
       "A   -1.443971\n",
       "B   -1.264969\n",
       "C   -1.514498\n",
       "D    0.379825\n",
       "Name: 2013-01-01 00:00:00, dtype: float64"
      ]
     },
     "execution_count": 28,
     "metadata": {},
     "output_type": "execute_result"
    }
   ],
   "source": [
    "df.loc[dates[0]]"
   ]
  },
  {
   "cell_type": "code",
   "execution_count": 29,
   "id": "aa0b38fb",
   "metadata": {},
   "outputs": [
    {
     "data": {
      "text/html": [
       "<div>\n",
       "<style scoped>\n",
       "    .dataframe tbody tr th:only-of-type {\n",
       "        vertical-align: middle;\n",
       "    }\n",
       "\n",
       "    .dataframe tbody tr th {\n",
       "        vertical-align: top;\n",
       "    }\n",
       "\n",
       "    .dataframe thead th {\n",
       "        text-align: right;\n",
       "    }\n",
       "</style>\n",
       "<table border=\"1\" class=\"dataframe\">\n",
       "  <thead>\n",
       "    <tr style=\"text-align: right;\">\n",
       "      <th></th>\n",
       "      <th>A</th>\n",
       "      <th>B</th>\n",
       "    </tr>\n",
       "  </thead>\n",
       "  <tbody>\n",
       "    <tr>\n",
       "      <th>2013-01-01</th>\n",
       "      <td>-1.443971</td>\n",
       "      <td>-1.264969</td>\n",
       "    </tr>\n",
       "    <tr>\n",
       "      <th>2013-01-02</th>\n",
       "      <td>-0.297073</td>\n",
       "      <td>-1.698189</td>\n",
       "    </tr>\n",
       "    <tr>\n",
       "      <th>2013-01-03</th>\n",
       "      <td>1.166979</td>\n",
       "      <td>0.132292</td>\n",
       "    </tr>\n",
       "    <tr>\n",
       "      <th>2013-01-04</th>\n",
       "      <td>-1.596401</td>\n",
       "      <td>2.048516</td>\n",
       "    </tr>\n",
       "    <tr>\n",
       "      <th>2013-01-05</th>\n",
       "      <td>-0.981598</td>\n",
       "      <td>-0.917616</td>\n",
       "    </tr>\n",
       "    <tr>\n",
       "      <th>2013-01-06</th>\n",
       "      <td>0.168124</td>\n",
       "      <td>-1.520638</td>\n",
       "    </tr>\n",
       "  </tbody>\n",
       "</table>\n",
       "</div>"
      ],
      "text/plain": [
       "                   A         B\n",
       "2013-01-01 -1.443971 -1.264969\n",
       "2013-01-02 -0.297073 -1.698189\n",
       "2013-01-03  1.166979  0.132292\n",
       "2013-01-04 -1.596401  2.048516\n",
       "2013-01-05 -0.981598 -0.917616\n",
       "2013-01-06  0.168124 -1.520638"
      ]
     },
     "execution_count": 29,
     "metadata": {},
     "output_type": "execute_result"
    }
   ],
   "source": [
    "df.loc[:,[\"A\",\"B\"]]"
   ]
  },
  {
   "cell_type": "code",
   "execution_count": 30,
   "id": "c5cef552",
   "metadata": {},
   "outputs": [
    {
     "data": {
      "text/html": [
       "<div>\n",
       "<style scoped>\n",
       "    .dataframe tbody tr th:only-of-type {\n",
       "        vertical-align: middle;\n",
       "    }\n",
       "\n",
       "    .dataframe tbody tr th {\n",
       "        vertical-align: top;\n",
       "    }\n",
       "\n",
       "    .dataframe thead th {\n",
       "        text-align: right;\n",
       "    }\n",
       "</style>\n",
       "<table border=\"1\" class=\"dataframe\">\n",
       "  <thead>\n",
       "    <tr style=\"text-align: right;\">\n",
       "      <th></th>\n",
       "      <th>A</th>\n",
       "      <th>B</th>\n",
       "    </tr>\n",
       "  </thead>\n",
       "  <tbody>\n",
       "    <tr>\n",
       "      <th>2013-01-02</th>\n",
       "      <td>-0.297073</td>\n",
       "      <td>-1.698189</td>\n",
       "    </tr>\n",
       "    <tr>\n",
       "      <th>2013-01-03</th>\n",
       "      <td>1.166979</td>\n",
       "      <td>0.132292</td>\n",
       "    </tr>\n",
       "    <tr>\n",
       "      <th>2013-01-04</th>\n",
       "      <td>-1.596401</td>\n",
       "      <td>2.048516</td>\n",
       "    </tr>\n",
       "  </tbody>\n",
       "</table>\n",
       "</div>"
      ],
      "text/plain": [
       "                   A         B\n",
       "2013-01-02 -0.297073 -1.698189\n",
       "2013-01-03  1.166979  0.132292\n",
       "2013-01-04 -1.596401  2.048516"
      ]
     },
     "execution_count": 30,
     "metadata": {},
     "output_type": "execute_result"
    }
   ],
   "source": [
    "df.loc[\"20130102\":\"20130104\",[\"A\", \"B\"]]"
   ]
  },
  {
   "cell_type": "code",
   "execution_count": 31,
   "id": "ca072f53",
   "metadata": {},
   "outputs": [
    {
     "data": {
      "text/plain": [
       "-1.443971337418897"
      ]
     },
     "execution_count": 31,
     "metadata": {},
     "output_type": "execute_result"
    }
   ],
   "source": [
    "df.loc[dates[0],\"A\"]"
   ]
  },
  {
   "cell_type": "code",
   "execution_count": 32,
   "id": "8cb6b08d",
   "metadata": {},
   "outputs": [
    {
     "data": {
      "text/plain": [
       "-1.443971337418897"
      ]
     },
     "execution_count": 32,
     "metadata": {},
     "output_type": "execute_result"
    }
   ],
   "source": [
    "df.at[dates[0],\"A\"]"
   ]
  },
  {
   "cell_type": "code",
   "execution_count": null,
   "id": "b53fb37d",
   "metadata": {},
   "outputs": [],
   "source": []
  },
  {
   "cell_type": "code",
   "execution_count": 33,
   "id": "b39097b3",
   "metadata": {},
   "outputs": [],
   "source": [
    "#Selection by position"
   ]
  },
  {
   "cell_type": "code",
   "execution_count": 34,
   "id": "1dee6dfb",
   "metadata": {},
   "outputs": [
    {
     "data": {
      "text/plain": [
       "A   -1.596401\n",
       "B    2.048516\n",
       "C    0.003408\n",
       "D    1.202181\n",
       "Name: 2013-01-04 00:00:00, dtype: float64"
      ]
     },
     "execution_count": 34,
     "metadata": {},
     "output_type": "execute_result"
    }
   ],
   "source": [
    "df.iloc[3]"
   ]
  },
  {
   "cell_type": "code",
   "execution_count": 35,
   "id": "a6a97a16",
   "metadata": {},
   "outputs": [
    {
     "data": {
      "text/html": [
       "<div>\n",
       "<style scoped>\n",
       "    .dataframe tbody tr th:only-of-type {\n",
       "        vertical-align: middle;\n",
       "    }\n",
       "\n",
       "    .dataframe tbody tr th {\n",
       "        vertical-align: top;\n",
       "    }\n",
       "\n",
       "    .dataframe thead th {\n",
       "        text-align: right;\n",
       "    }\n",
       "</style>\n",
       "<table border=\"1\" class=\"dataframe\">\n",
       "  <thead>\n",
       "    <tr style=\"text-align: right;\">\n",
       "      <th></th>\n",
       "      <th>A</th>\n",
       "      <th>B</th>\n",
       "    </tr>\n",
       "  </thead>\n",
       "  <tbody>\n",
       "    <tr>\n",
       "      <th>2013-01-04</th>\n",
       "      <td>-1.596401</td>\n",
       "      <td>2.048516</td>\n",
       "    </tr>\n",
       "    <tr>\n",
       "      <th>2013-01-05</th>\n",
       "      <td>-0.981598</td>\n",
       "      <td>-0.917616</td>\n",
       "    </tr>\n",
       "  </tbody>\n",
       "</table>\n",
       "</div>"
      ],
      "text/plain": [
       "                   A         B\n",
       "2013-01-04 -1.596401  2.048516\n",
       "2013-01-05 -0.981598 -0.917616"
      ]
     },
     "execution_count": 35,
     "metadata": {},
     "output_type": "execute_result"
    }
   ],
   "source": [
    "df.iloc[3:5, 0:2]"
   ]
  },
  {
   "cell_type": "code",
   "execution_count": 36,
   "id": "fe8a8815",
   "metadata": {},
   "outputs": [
    {
     "data": {
      "text/html": [
       "<div>\n",
       "<style scoped>\n",
       "    .dataframe tbody tr th:only-of-type {\n",
       "        vertical-align: middle;\n",
       "    }\n",
       "\n",
       "    .dataframe tbody tr th {\n",
       "        vertical-align: top;\n",
       "    }\n",
       "\n",
       "    .dataframe thead th {\n",
       "        text-align: right;\n",
       "    }\n",
       "</style>\n",
       "<table border=\"1\" class=\"dataframe\">\n",
       "  <thead>\n",
       "    <tr style=\"text-align: right;\">\n",
       "      <th></th>\n",
       "      <th>A</th>\n",
       "      <th>C</th>\n",
       "    </tr>\n",
       "  </thead>\n",
       "  <tbody>\n",
       "    <tr>\n",
       "      <th>2013-01-02</th>\n",
       "      <td>-0.297073</td>\n",
       "      <td>0.025104</td>\n",
       "    </tr>\n",
       "    <tr>\n",
       "      <th>2013-01-03</th>\n",
       "      <td>1.166979</td>\n",
       "      <td>0.393677</td>\n",
       "    </tr>\n",
       "    <tr>\n",
       "      <th>2013-01-05</th>\n",
       "      <td>-0.981598</td>\n",
       "      <td>1.831406</td>\n",
       "    </tr>\n",
       "  </tbody>\n",
       "</table>\n",
       "</div>"
      ],
      "text/plain": [
       "                   A         C\n",
       "2013-01-02 -0.297073  0.025104\n",
       "2013-01-03  1.166979  0.393677\n",
       "2013-01-05 -0.981598  1.831406"
      ]
     },
     "execution_count": 36,
     "metadata": {},
     "output_type": "execute_result"
    }
   ],
   "source": [
    "df.iloc[[1,2,4], [0,2]]"
   ]
  },
  {
   "cell_type": "code",
   "execution_count": 37,
   "id": "4f1a8d34",
   "metadata": {},
   "outputs": [
    {
     "data": {
      "text/html": [
       "<div>\n",
       "<style scoped>\n",
       "    .dataframe tbody tr th:only-of-type {\n",
       "        vertical-align: middle;\n",
       "    }\n",
       "\n",
       "    .dataframe tbody tr th {\n",
       "        vertical-align: top;\n",
       "    }\n",
       "\n",
       "    .dataframe thead th {\n",
       "        text-align: right;\n",
       "    }\n",
       "</style>\n",
       "<table border=\"1\" class=\"dataframe\">\n",
       "  <thead>\n",
       "    <tr style=\"text-align: right;\">\n",
       "      <th></th>\n",
       "      <th>A</th>\n",
       "      <th>B</th>\n",
       "      <th>C</th>\n",
       "      <th>D</th>\n",
       "    </tr>\n",
       "  </thead>\n",
       "  <tbody>\n",
       "    <tr>\n",
       "      <th>2013-01-02</th>\n",
       "      <td>-0.297073</td>\n",
       "      <td>-1.698189</td>\n",
       "      <td>0.025104</td>\n",
       "      <td>0.654576</td>\n",
       "    </tr>\n",
       "    <tr>\n",
       "      <th>2013-01-03</th>\n",
       "      <td>1.166979</td>\n",
       "      <td>0.132292</td>\n",
       "      <td>0.393677</td>\n",
       "      <td>0.576973</td>\n",
       "    </tr>\n",
       "  </tbody>\n",
       "</table>\n",
       "</div>"
      ],
      "text/plain": [
       "                   A         B         C         D\n",
       "2013-01-02 -0.297073 -1.698189  0.025104  0.654576\n",
       "2013-01-03  1.166979  0.132292  0.393677  0.576973"
      ]
     },
     "execution_count": 37,
     "metadata": {},
     "output_type": "execute_result"
    }
   ],
   "source": [
    "df.iloc[1:3, :]"
   ]
  },
  {
   "cell_type": "code",
   "execution_count": 38,
   "id": "089e26bb",
   "metadata": {},
   "outputs": [
    {
     "data": {
      "text/html": [
       "<div>\n",
       "<style scoped>\n",
       "    .dataframe tbody tr th:only-of-type {\n",
       "        vertical-align: middle;\n",
       "    }\n",
       "\n",
       "    .dataframe tbody tr th {\n",
       "        vertical-align: top;\n",
       "    }\n",
       "\n",
       "    .dataframe thead th {\n",
       "        text-align: right;\n",
       "    }\n",
       "</style>\n",
       "<table border=\"1\" class=\"dataframe\">\n",
       "  <thead>\n",
       "    <tr style=\"text-align: right;\">\n",
       "      <th></th>\n",
       "      <th>B</th>\n",
       "      <th>C</th>\n",
       "    </tr>\n",
       "  </thead>\n",
       "  <tbody>\n",
       "    <tr>\n",
       "      <th>2013-01-01</th>\n",
       "      <td>-1.264969</td>\n",
       "      <td>-1.514498</td>\n",
       "    </tr>\n",
       "    <tr>\n",
       "      <th>2013-01-02</th>\n",
       "      <td>-1.698189</td>\n",
       "      <td>0.025104</td>\n",
       "    </tr>\n",
       "    <tr>\n",
       "      <th>2013-01-03</th>\n",
       "      <td>0.132292</td>\n",
       "      <td>0.393677</td>\n",
       "    </tr>\n",
       "    <tr>\n",
       "      <th>2013-01-04</th>\n",
       "      <td>2.048516</td>\n",
       "      <td>0.003408</td>\n",
       "    </tr>\n",
       "    <tr>\n",
       "      <th>2013-01-05</th>\n",
       "      <td>-0.917616</td>\n",
       "      <td>1.831406</td>\n",
       "    </tr>\n",
       "    <tr>\n",
       "      <th>2013-01-06</th>\n",
       "      <td>-1.520638</td>\n",
       "      <td>-1.004770</td>\n",
       "    </tr>\n",
       "  </tbody>\n",
       "</table>\n",
       "</div>"
      ],
      "text/plain": [
       "                   B         C\n",
       "2013-01-01 -1.264969 -1.514498\n",
       "2013-01-02 -1.698189  0.025104\n",
       "2013-01-03  0.132292  0.393677\n",
       "2013-01-04  2.048516  0.003408\n",
       "2013-01-05 -0.917616  1.831406\n",
       "2013-01-06 -1.520638 -1.004770"
      ]
     },
     "execution_count": 38,
     "metadata": {},
     "output_type": "execute_result"
    }
   ],
   "source": [
    "df.iloc[:, 1:3]"
   ]
  },
  {
   "cell_type": "code",
   "execution_count": 39,
   "id": "9dcbadc6",
   "metadata": {},
   "outputs": [
    {
     "data": {
      "text/plain": [
       "-1.6981893910857304"
      ]
     },
     "execution_count": 39,
     "metadata": {},
     "output_type": "execute_result"
    }
   ],
   "source": [
    "df.iloc[1,1]"
   ]
  },
  {
   "cell_type": "code",
   "execution_count": 40,
   "id": "526b6f3b",
   "metadata": {},
   "outputs": [
    {
     "data": {
      "text/plain": [
       "-1.6981893910857304"
      ]
     },
     "execution_count": 40,
     "metadata": {},
     "output_type": "execute_result"
    }
   ],
   "source": [
    "df.iat[1,1]"
   ]
  },
  {
   "cell_type": "code",
   "execution_count": null,
   "id": "c17e2ef6",
   "metadata": {},
   "outputs": [],
   "source": []
  },
  {
   "cell_type": "code",
   "execution_count": 41,
   "id": "712245c8",
   "metadata": {},
   "outputs": [],
   "source": [
    "#Boolen Indexing"
   ]
  },
  {
   "cell_type": "code",
   "execution_count": 42,
   "id": "9c9aef79",
   "metadata": {},
   "outputs": [
    {
     "data": {
      "text/html": [
       "<div>\n",
       "<style scoped>\n",
       "    .dataframe tbody tr th:only-of-type {\n",
       "        vertical-align: middle;\n",
       "    }\n",
       "\n",
       "    .dataframe tbody tr th {\n",
       "        vertical-align: top;\n",
       "    }\n",
       "\n",
       "    .dataframe thead th {\n",
       "        text-align: right;\n",
       "    }\n",
       "</style>\n",
       "<table border=\"1\" class=\"dataframe\">\n",
       "  <thead>\n",
       "    <tr style=\"text-align: right;\">\n",
       "      <th></th>\n",
       "      <th>A</th>\n",
       "      <th>B</th>\n",
       "      <th>C</th>\n",
       "      <th>D</th>\n",
       "    </tr>\n",
       "  </thead>\n",
       "  <tbody>\n",
       "    <tr>\n",
       "      <th>2013-01-01</th>\n",
       "      <td>NaN</td>\n",
       "      <td>NaN</td>\n",
       "      <td>NaN</td>\n",
       "      <td>0.379825</td>\n",
       "    </tr>\n",
       "    <tr>\n",
       "      <th>2013-01-02</th>\n",
       "      <td>NaN</td>\n",
       "      <td>NaN</td>\n",
       "      <td>0.025104</td>\n",
       "      <td>0.654576</td>\n",
       "    </tr>\n",
       "    <tr>\n",
       "      <th>2013-01-03</th>\n",
       "      <td>1.166979</td>\n",
       "      <td>0.132292</td>\n",
       "      <td>0.393677</td>\n",
       "      <td>0.576973</td>\n",
       "    </tr>\n",
       "    <tr>\n",
       "      <th>2013-01-04</th>\n",
       "      <td>NaN</td>\n",
       "      <td>2.048516</td>\n",
       "      <td>0.003408</td>\n",
       "      <td>1.202181</td>\n",
       "    </tr>\n",
       "    <tr>\n",
       "      <th>2013-01-05</th>\n",
       "      <td>NaN</td>\n",
       "      <td>NaN</td>\n",
       "      <td>1.831406</td>\n",
       "      <td>NaN</td>\n",
       "    </tr>\n",
       "    <tr>\n",
       "      <th>2013-01-06</th>\n",
       "      <td>0.168124</td>\n",
       "      <td>NaN</td>\n",
       "      <td>NaN</td>\n",
       "      <td>0.385805</td>\n",
       "    </tr>\n",
       "  </tbody>\n",
       "</table>\n",
       "</div>"
      ],
      "text/plain": [
       "                   A         B         C         D\n",
       "2013-01-01       NaN       NaN       NaN  0.379825\n",
       "2013-01-02       NaN       NaN  0.025104  0.654576\n",
       "2013-01-03  1.166979  0.132292  0.393677  0.576973\n",
       "2013-01-04       NaN  2.048516  0.003408  1.202181\n",
       "2013-01-05       NaN       NaN  1.831406       NaN\n",
       "2013-01-06  0.168124       NaN       NaN  0.385805"
      ]
     },
     "execution_count": 42,
     "metadata": {},
     "output_type": "execute_result"
    }
   ],
   "source": [
    "df[df>0]"
   ]
  },
  {
   "cell_type": "code",
   "execution_count": 43,
   "id": "07d58b01",
   "metadata": {},
   "outputs": [
    {
     "data": {
      "text/html": [
       "<div>\n",
       "<style scoped>\n",
       "    .dataframe tbody tr th:only-of-type {\n",
       "        vertical-align: middle;\n",
       "    }\n",
       "\n",
       "    .dataframe tbody tr th {\n",
       "        vertical-align: top;\n",
       "    }\n",
       "\n",
       "    .dataframe thead th {\n",
       "        text-align: right;\n",
       "    }\n",
       "</style>\n",
       "<table border=\"1\" class=\"dataframe\">\n",
       "  <thead>\n",
       "    <tr style=\"text-align: right;\">\n",
       "      <th></th>\n",
       "      <th>A</th>\n",
       "      <th>B</th>\n",
       "      <th>C</th>\n",
       "      <th>D</th>\n",
       "    </tr>\n",
       "  </thead>\n",
       "  <tbody>\n",
       "    <tr>\n",
       "      <th>2013-01-03</th>\n",
       "      <td>1.166979</td>\n",
       "      <td>0.132292</td>\n",
       "      <td>0.393677</td>\n",
       "      <td>0.576973</td>\n",
       "    </tr>\n",
       "    <tr>\n",
       "      <th>2013-01-06</th>\n",
       "      <td>0.168124</td>\n",
       "      <td>-1.520638</td>\n",
       "      <td>-1.004770</td>\n",
       "      <td>0.385805</td>\n",
       "    </tr>\n",
       "  </tbody>\n",
       "</table>\n",
       "</div>"
      ],
      "text/plain": [
       "                   A         B         C         D\n",
       "2013-01-03  1.166979  0.132292  0.393677  0.576973\n",
       "2013-01-06  0.168124 -1.520638 -1.004770  0.385805"
      ]
     },
     "execution_count": 43,
     "metadata": {},
     "output_type": "execute_result"
    }
   ],
   "source": [
    "df[df[\"A\"]>0]"
   ]
  },
  {
   "cell_type": "code",
   "execution_count": 44,
   "id": "2bc76335",
   "metadata": {},
   "outputs": [
    {
     "data": {
      "text/html": [
       "<div>\n",
       "<style scoped>\n",
       "    .dataframe tbody tr th:only-of-type {\n",
       "        vertical-align: middle;\n",
       "    }\n",
       "\n",
       "    .dataframe tbody tr th {\n",
       "        vertical-align: top;\n",
       "    }\n",
       "\n",
       "    .dataframe thead th {\n",
       "        text-align: right;\n",
       "    }\n",
       "</style>\n",
       "<table border=\"1\" class=\"dataframe\">\n",
       "  <thead>\n",
       "    <tr style=\"text-align: right;\">\n",
       "      <th></th>\n",
       "      <th>A</th>\n",
       "      <th>B</th>\n",
       "      <th>C</th>\n",
       "      <th>D</th>\n",
       "      <th>E</th>\n",
       "    </tr>\n",
       "  </thead>\n",
       "  <tbody>\n",
       "    <tr>\n",
       "      <th>2013-01-01</th>\n",
       "      <td>-1.443971</td>\n",
       "      <td>-1.264969</td>\n",
       "      <td>-1.514498</td>\n",
       "      <td>0.379825</td>\n",
       "      <td>One</td>\n",
       "    </tr>\n",
       "    <tr>\n",
       "      <th>2013-01-02</th>\n",
       "      <td>-0.297073</td>\n",
       "      <td>-1.698189</td>\n",
       "      <td>0.025104</td>\n",
       "      <td>0.654576</td>\n",
       "      <td>One</td>\n",
       "    </tr>\n",
       "    <tr>\n",
       "      <th>2013-01-03</th>\n",
       "      <td>1.166979</td>\n",
       "      <td>0.132292</td>\n",
       "      <td>0.393677</td>\n",
       "      <td>0.576973</td>\n",
       "      <td>Two</td>\n",
       "    </tr>\n",
       "    <tr>\n",
       "      <th>2013-01-04</th>\n",
       "      <td>-1.596401</td>\n",
       "      <td>2.048516</td>\n",
       "      <td>0.003408</td>\n",
       "      <td>1.202181</td>\n",
       "      <td>Three</td>\n",
       "    </tr>\n",
       "    <tr>\n",
       "      <th>2013-01-05</th>\n",
       "      <td>-0.981598</td>\n",
       "      <td>-0.917616</td>\n",
       "      <td>1.831406</td>\n",
       "      <td>-1.270526</td>\n",
       "      <td>Four</td>\n",
       "    </tr>\n",
       "    <tr>\n",
       "      <th>2013-01-06</th>\n",
       "      <td>0.168124</td>\n",
       "      <td>-1.520638</td>\n",
       "      <td>-1.004770</td>\n",
       "      <td>0.385805</td>\n",
       "      <td>Three</td>\n",
       "    </tr>\n",
       "  </tbody>\n",
       "</table>\n",
       "</div>"
      ],
      "text/plain": [
       "                   A         B         C         D      E\n",
       "2013-01-01 -1.443971 -1.264969 -1.514498  0.379825    One\n",
       "2013-01-02 -0.297073 -1.698189  0.025104  0.654576    One\n",
       "2013-01-03  1.166979  0.132292  0.393677  0.576973    Two\n",
       "2013-01-04 -1.596401  2.048516  0.003408  1.202181  Three\n",
       "2013-01-05 -0.981598 -0.917616  1.831406 -1.270526   Four\n",
       "2013-01-06  0.168124 -1.520638 -1.004770  0.385805  Three"
      ]
     },
     "execution_count": 44,
     "metadata": {},
     "output_type": "execute_result"
    }
   ],
   "source": [
    "df2=df.copy()\n",
    "df2[\"E\"]=[\"One\",\"One\", \"Two\", \"Three\", \"Four\", \"Three\"]\n",
    "df2"
   ]
  },
  {
   "cell_type": "code",
   "execution_count": 45,
   "id": "92020ce7",
   "metadata": {},
   "outputs": [
    {
     "data": {
      "text/html": [
       "<div>\n",
       "<style scoped>\n",
       "    .dataframe tbody tr th:only-of-type {\n",
       "        vertical-align: middle;\n",
       "    }\n",
       "\n",
       "    .dataframe tbody tr th {\n",
       "        vertical-align: top;\n",
       "    }\n",
       "\n",
       "    .dataframe thead th {\n",
       "        text-align: right;\n",
       "    }\n",
       "</style>\n",
       "<table border=\"1\" class=\"dataframe\">\n",
       "  <thead>\n",
       "    <tr style=\"text-align: right;\">\n",
       "      <th></th>\n",
       "      <th>A</th>\n",
       "      <th>B</th>\n",
       "      <th>C</th>\n",
       "      <th>D</th>\n",
       "      <th>E</th>\n",
       "    </tr>\n",
       "  </thead>\n",
       "  <tbody>\n",
       "    <tr>\n",
       "      <th>2013-01-03</th>\n",
       "      <td>1.166979</td>\n",
       "      <td>0.132292</td>\n",
       "      <td>0.393677</td>\n",
       "      <td>0.576973</td>\n",
       "      <td>Two</td>\n",
       "    </tr>\n",
       "    <tr>\n",
       "      <th>2013-01-05</th>\n",
       "      <td>-0.981598</td>\n",
       "      <td>-0.917616</td>\n",
       "      <td>1.831406</td>\n",
       "      <td>-1.270526</td>\n",
       "      <td>Four</td>\n",
       "    </tr>\n",
       "  </tbody>\n",
       "</table>\n",
       "</div>"
      ],
      "text/plain": [
       "                   A         B         C         D     E\n",
       "2013-01-03  1.166979  0.132292  0.393677  0.576973   Two\n",
       "2013-01-05 -0.981598 -0.917616  1.831406 -1.270526  Four"
      ]
     },
     "execution_count": 45,
     "metadata": {},
     "output_type": "execute_result"
    }
   ],
   "source": [
    "df2[df2[\"E\"].isin([\"Two\",\"Four\"])]"
   ]
  },
  {
   "cell_type": "code",
   "execution_count": null,
   "id": "ca62a7c8",
   "metadata": {},
   "outputs": [],
   "source": []
  },
  {
   "cell_type": "code",
   "execution_count": 46,
   "id": "43c21bc3",
   "metadata": {},
   "outputs": [],
   "source": [
    "#Setting"
   ]
  },
  {
   "cell_type": "code",
   "execution_count": 47,
   "id": "9176e294",
   "metadata": {},
   "outputs": [
    {
     "data": {
      "text/plain": [
       "2013-01-02    1\n",
       "2013-01-03    2\n",
       "2013-01-04    3\n",
       "2013-01-05    4\n",
       "2013-01-06    5\n",
       "2013-01-07    6\n",
       "Freq: D, dtype: int64"
      ]
     },
     "execution_count": 47,
     "metadata": {},
     "output_type": "execute_result"
    }
   ],
   "source": [
    "s1=pd.Series([1,2,3,4,5,6], index=pd.date_range(\"20130102\", periods=6))\n",
    "s1"
   ]
  },
  {
   "cell_type": "code",
   "execution_count": 48,
   "id": "75ca33b8",
   "metadata": {},
   "outputs": [],
   "source": [
    "df.at[dates[0], \"A\"]=0"
   ]
  },
  {
   "cell_type": "code",
   "execution_count": 49,
   "id": "e212684f",
   "metadata": {},
   "outputs": [],
   "source": [
    "df.iat[0, 1]=0"
   ]
  },
  {
   "cell_type": "code",
   "execution_count": 50,
   "id": "f733a5ff",
   "metadata": {},
   "outputs": [],
   "source": [
    "df.loc[:, \"D\"]=np.array([5]* len(df))"
   ]
  },
  {
   "cell_type": "code",
   "execution_count": 51,
   "id": "2cc87c04",
   "metadata": {},
   "outputs": [
    {
     "data": {
      "text/html": [
       "<div>\n",
       "<style scoped>\n",
       "    .dataframe tbody tr th:only-of-type {\n",
       "        vertical-align: middle;\n",
       "    }\n",
       "\n",
       "    .dataframe tbody tr th {\n",
       "        vertical-align: top;\n",
       "    }\n",
       "\n",
       "    .dataframe thead th {\n",
       "        text-align: right;\n",
       "    }\n",
       "</style>\n",
       "<table border=\"1\" class=\"dataframe\">\n",
       "  <thead>\n",
       "    <tr style=\"text-align: right;\">\n",
       "      <th></th>\n",
       "      <th>A</th>\n",
       "      <th>B</th>\n",
       "      <th>C</th>\n",
       "      <th>D</th>\n",
       "    </tr>\n",
       "  </thead>\n",
       "  <tbody>\n",
       "    <tr>\n",
       "      <th>2013-01-01</th>\n",
       "      <td>0.000000</td>\n",
       "      <td>0.000000</td>\n",
       "      <td>-1.514498</td>\n",
       "      <td>5.0</td>\n",
       "    </tr>\n",
       "    <tr>\n",
       "      <th>2013-01-02</th>\n",
       "      <td>-0.297073</td>\n",
       "      <td>-1.698189</td>\n",
       "      <td>0.025104</td>\n",
       "      <td>5.0</td>\n",
       "    </tr>\n",
       "    <tr>\n",
       "      <th>2013-01-03</th>\n",
       "      <td>1.166979</td>\n",
       "      <td>0.132292</td>\n",
       "      <td>0.393677</td>\n",
       "      <td>5.0</td>\n",
       "    </tr>\n",
       "    <tr>\n",
       "      <th>2013-01-04</th>\n",
       "      <td>-1.596401</td>\n",
       "      <td>2.048516</td>\n",
       "      <td>0.003408</td>\n",
       "      <td>5.0</td>\n",
       "    </tr>\n",
       "    <tr>\n",
       "      <th>2013-01-05</th>\n",
       "      <td>-0.981598</td>\n",
       "      <td>-0.917616</td>\n",
       "      <td>1.831406</td>\n",
       "      <td>5.0</td>\n",
       "    </tr>\n",
       "    <tr>\n",
       "      <th>2013-01-06</th>\n",
       "      <td>0.168124</td>\n",
       "      <td>-1.520638</td>\n",
       "      <td>-1.004770</td>\n",
       "      <td>5.0</td>\n",
       "    </tr>\n",
       "  </tbody>\n",
       "</table>\n",
       "</div>"
      ],
      "text/plain": [
       "                   A         B         C    D\n",
       "2013-01-01  0.000000  0.000000 -1.514498  5.0\n",
       "2013-01-02 -0.297073 -1.698189  0.025104  5.0\n",
       "2013-01-03  1.166979  0.132292  0.393677  5.0\n",
       "2013-01-04 -1.596401  2.048516  0.003408  5.0\n",
       "2013-01-05 -0.981598 -0.917616  1.831406  5.0\n",
       "2013-01-06  0.168124 -1.520638 -1.004770  5.0"
      ]
     },
     "execution_count": 51,
     "metadata": {},
     "output_type": "execute_result"
    }
   ],
   "source": [
    "df"
   ]
  },
  {
   "cell_type": "code",
   "execution_count": 52,
   "id": "3f8bc4ed",
   "metadata": {},
   "outputs": [
    {
     "data": {
      "text/html": [
       "<div>\n",
       "<style scoped>\n",
       "    .dataframe tbody tr th:only-of-type {\n",
       "        vertical-align: middle;\n",
       "    }\n",
       "\n",
       "    .dataframe tbody tr th {\n",
       "        vertical-align: top;\n",
       "    }\n",
       "\n",
       "    .dataframe thead th {\n",
       "        text-align: right;\n",
       "    }\n",
       "</style>\n",
       "<table border=\"1\" class=\"dataframe\">\n",
       "  <thead>\n",
       "    <tr style=\"text-align: right;\">\n",
       "      <th></th>\n",
       "      <th>A</th>\n",
       "      <th>B</th>\n",
       "      <th>C</th>\n",
       "      <th>D</th>\n",
       "    </tr>\n",
       "  </thead>\n",
       "  <tbody>\n",
       "    <tr>\n",
       "      <th>2013-01-01</th>\n",
       "      <td>0.000000</td>\n",
       "      <td>0.000000</td>\n",
       "      <td>-1.514498</td>\n",
       "      <td>-5.0</td>\n",
       "    </tr>\n",
       "    <tr>\n",
       "      <th>2013-01-02</th>\n",
       "      <td>-0.297073</td>\n",
       "      <td>-1.698189</td>\n",
       "      <td>-0.025104</td>\n",
       "      <td>-5.0</td>\n",
       "    </tr>\n",
       "    <tr>\n",
       "      <th>2013-01-03</th>\n",
       "      <td>-1.166979</td>\n",
       "      <td>-0.132292</td>\n",
       "      <td>-0.393677</td>\n",
       "      <td>-5.0</td>\n",
       "    </tr>\n",
       "    <tr>\n",
       "      <th>2013-01-04</th>\n",
       "      <td>-1.596401</td>\n",
       "      <td>-2.048516</td>\n",
       "      <td>-0.003408</td>\n",
       "      <td>-5.0</td>\n",
       "    </tr>\n",
       "    <tr>\n",
       "      <th>2013-01-05</th>\n",
       "      <td>-0.981598</td>\n",
       "      <td>-0.917616</td>\n",
       "      <td>-1.831406</td>\n",
       "      <td>-5.0</td>\n",
       "    </tr>\n",
       "    <tr>\n",
       "      <th>2013-01-06</th>\n",
       "      <td>-0.168124</td>\n",
       "      <td>-1.520638</td>\n",
       "      <td>-1.004770</td>\n",
       "      <td>-5.0</td>\n",
       "    </tr>\n",
       "  </tbody>\n",
       "</table>\n",
       "</div>"
      ],
      "text/plain": [
       "                   A         B         C    D\n",
       "2013-01-01  0.000000  0.000000 -1.514498 -5.0\n",
       "2013-01-02 -0.297073 -1.698189 -0.025104 -5.0\n",
       "2013-01-03 -1.166979 -0.132292 -0.393677 -5.0\n",
       "2013-01-04 -1.596401 -2.048516 -0.003408 -5.0\n",
       "2013-01-05 -0.981598 -0.917616 -1.831406 -5.0\n",
       "2013-01-06 -0.168124 -1.520638 -1.004770 -5.0"
      ]
     },
     "execution_count": 52,
     "metadata": {},
     "output_type": "execute_result"
    }
   ],
   "source": [
    "df2=df.copy()\n",
    "\n",
    "df2[df2 > 0]= -df2\n",
    "\n",
    "df2"
   ]
  },
  {
   "cell_type": "code",
   "execution_count": null,
   "id": "1ba656d5",
   "metadata": {},
   "outputs": [],
   "source": []
  },
  {
   "cell_type": "code",
   "execution_count": null,
   "id": "465c98c5",
   "metadata": {},
   "outputs": [],
   "source": []
  },
  {
   "cell_type": "code",
   "execution_count": null,
   "id": "0d94dfc2",
   "metadata": {},
   "outputs": [],
   "source": []
  },
  {
   "cell_type": "code",
   "execution_count": 53,
   "id": "e605179a",
   "metadata": {},
   "outputs": [],
   "source": [
    "#Missing date"
   ]
  },
  {
   "cell_type": "code",
   "execution_count": 54,
   "id": "444bfc44",
   "metadata": {},
   "outputs": [
    {
     "ename": "SyntaxError",
     "evalue": "leading zeros in decimal integer literals are not permitted; use an 0o prefix for octal integers (3640402569.py, line 8)",
     "output_type": "error",
     "traceback": [
      "\u001b[1;36m  Cell \u001b[1;32mIn[54], line 8\u001b[1;36m\u001b[0m\n\u001b[1;33m    2013-01-01  0.000000  0.000000 -1.509059  5.0  NaN  1.0\u001b[0m\n\u001b[1;37m         ^\u001b[0m\n\u001b[1;31mSyntaxError\u001b[0m\u001b[1;31m:\u001b[0m leading zeros in decimal integer literals are not permitted; use an 0o prefix for octal integers\n"
     ]
    }
   ],
   "source": [
    "In [55]: df1 = df.reindex(index=dates[0:4], columns=list(df.columns) + [\"E\"])\n",
    "\n",
    "In [56]: df1.loc[dates[0] : dates[1], \"E\"] = 1\n",
    "\n",
    "In [57]: df1\n",
    "Out[57]: \n",
    "                   A         B         C    D    F    E\n",
    "2013-01-01  0.000000  0.000000 -1.509059  5.0  NaN  1.0\n",
    "2013-01-02  1.212112 -0.173215  0.119209  5.0  1.0  1.0\n",
    "2013-01-03 -0.861849 -2.104569 -0.494929  5.0  2.0  NaN\n",
    "2013-01-04  0.721555 -0.706771 -1.039575  5.0  3.0  NaN"
   ]
  },
  {
   "cell_type": "code",
   "execution_count": null,
   "id": "41ebc570",
   "metadata": {},
   "outputs": [],
   "source": [
    "df1=df.reindex(index=dates[0:4], columns=list(df.columns) + [\"E\"])\n",
    "\n",
    "df1.loc[dates[0]: dates[1], \"E\"]=1\n",
    "\n",
    "df1"
   ]
  },
  {
   "cell_type": "code",
   "execution_count": null,
   "id": "7c83e8be",
   "metadata": {},
   "outputs": [],
   "source": [
    "df1.dropna(how= \"any\")"
   ]
  },
  {
   "cell_type": "code",
   "execution_count": null,
   "id": "2444e19b",
   "metadata": {},
   "outputs": [],
   "source": [
    "df1.fillna(value=5)"
   ]
  },
  {
   "cell_type": "code",
   "execution_count": null,
   "id": "174f628a",
   "metadata": {},
   "outputs": [],
   "source": [
    "pd.isna(df1)"
   ]
  },
  {
   "cell_type": "code",
   "execution_count": null,
   "id": "d603e3da",
   "metadata": {},
   "outputs": [],
   "source": []
  },
  {
   "cell_type": "code",
   "execution_count": null,
   "id": "7316235a",
   "metadata": {},
   "outputs": [],
   "source": []
  },
  {
   "cell_type": "code",
   "execution_count": null,
   "id": "eb99e57e",
   "metadata": {},
   "outputs": [],
   "source": []
  },
  {
   "cell_type": "code",
   "execution_count": null,
   "id": "e345d34f",
   "metadata": {},
   "outputs": [],
   "source": [
    "#operations"
   ]
  },
  {
   "cell_type": "code",
   "execution_count": null,
   "id": "03283971",
   "metadata": {},
   "outputs": [],
   "source": [
    "#stats"
   ]
  },
  {
   "cell_type": "code",
   "execution_count": null,
   "id": "a8a06424",
   "metadata": {},
   "outputs": [],
   "source": [
    "df.mean()"
   ]
  },
  {
   "cell_type": "code",
   "execution_count": null,
   "id": "3f3273d5",
   "metadata": {},
   "outputs": [],
   "source": [
    "df.mean(axis=1)"
   ]
  },
  {
   "cell_type": "code",
   "execution_count": null,
   "id": "f88da190",
   "metadata": {},
   "outputs": [],
   "source": [
    "s=pd.Series([1,3,5, np.nan, 6,8], index=dates).shift(2)\n",
    "\n",
    "s"
   ]
  },
  {
   "cell_type": "code",
   "execution_count": null,
   "id": "efd38f91",
   "metadata": {},
   "outputs": [],
   "source": [
    "df.sub(s, axis=\"index\")"
   ]
  },
  {
   "cell_type": "code",
   "execution_count": null,
   "id": "82d508d7",
   "metadata": {},
   "outputs": [],
   "source": []
  },
  {
   "cell_type": "code",
   "execution_count": null,
   "id": "0a178075",
   "metadata": {},
   "outputs": [],
   "source": [
    "#User Defined Function"
   ]
  },
  {
   "cell_type": "code",
   "execution_count": null,
   "id": "8a94d711",
   "metadata": {},
   "outputs": [],
   "source": [
    "df.agg(lambda x:np.mean(x)*5.6)"
   ]
  },
  {
   "cell_type": "code",
   "execution_count": null,
   "id": "e982662a",
   "metadata": {},
   "outputs": [],
   "source": [
    "df.transform(lambda x:x*101.2)"
   ]
  },
  {
   "cell_type": "code",
   "execution_count": null,
   "id": "97e79983",
   "metadata": {},
   "outputs": [],
   "source": []
  },
  {
   "cell_type": "code",
   "execution_count": null,
   "id": "5f21b1c2",
   "metadata": {},
   "outputs": [],
   "source": [
    "#Value counts"
   ]
  },
  {
   "cell_type": "code",
   "execution_count": null,
   "id": "0f1f38db",
   "metadata": {},
   "outputs": [],
   "source": [
    "s=pd.Series(np.random.randint(0,7, size=10))\n",
    "s"
   ]
  },
  {
   "cell_type": "code",
   "execution_count": null,
   "id": "003955fe",
   "metadata": {},
   "outputs": [],
   "source": [
    "s.value_counts()"
   ]
  },
  {
   "cell_type": "code",
   "execution_count": null,
   "id": "d1c74489",
   "metadata": {},
   "outputs": [],
   "source": []
  },
  {
   "cell_type": "code",
   "execution_count": null,
   "id": "efaa6a49",
   "metadata": {},
   "outputs": [],
   "source": [
    "#String methods"
   ]
  },
  {
   "cell_type": "code",
   "execution_count": null,
   "id": "f346c244",
   "metadata": {},
   "outputs": [],
   "source": [
    "s=pd.Series([\"A\", \"B\", \"C\", \"Aaba\", \"Baca\", np.nan, \"CABA\",\"dog\", \"cat\"])\n",
    "\n",
    "s.str.lower()"
   ]
  },
  {
   "cell_type": "code",
   "execution_count": null,
   "id": "9d613044",
   "metadata": {},
   "outputs": [],
   "source": []
  },
  {
   "cell_type": "code",
   "execution_count": null,
   "id": "3bdcf65c",
   "metadata": {},
   "outputs": [],
   "source": []
  },
  {
   "cell_type": "code",
   "execution_count": null,
   "id": "fff598a7",
   "metadata": {},
   "outputs": [],
   "source": []
  },
  {
   "cell_type": "code",
   "execution_count": null,
   "id": "54c5e00e",
   "metadata": {},
   "outputs": [],
   "source": [
    "#merge"
   ]
  },
  {
   "cell_type": "code",
   "execution_count": null,
   "id": "8227524d",
   "metadata": {},
   "outputs": [],
   "source": [
    "#Concat"
   ]
  },
  {
   "cell_type": "code",
   "execution_count": null,
   "id": "fc12ca04",
   "metadata": {},
   "outputs": [],
   "source": [
    "df=pd.DataFrame(np.random.randn(10, 4))\n",
    "df"
   ]
  },
  {
   "cell_type": "code",
   "execution_count": null,
   "id": "9fcd3835",
   "metadata": {},
   "outputs": [],
   "source": [
    "pieces=[df[:3], df[3:7], df[7:1]]\n",
    "pd.concat(pieces)"
   ]
  },
  {
   "cell_type": "code",
   "execution_count": null,
   "id": "c0ce5b8d",
   "metadata": {},
   "outputs": [],
   "source": []
  },
  {
   "cell_type": "code",
   "execution_count": null,
   "id": "6c0e657f",
   "metadata": {},
   "outputs": [],
   "source": [
    "#join"
   ]
  },
  {
   "cell_type": "code",
   "execution_count": null,
   "id": "10fd14ff",
   "metadata": {},
   "outputs": [],
   "source": [
    "left=pd.DataFrame({\"key\": [\"foo\", \"foo\"], \"lval\":[1,2]})\n",
    "\n",
    "right=pd.DataFrame({\"key\": [\"foo\", \"foo\"], \"rval\":[4,5]})"
   ]
  },
  {
   "cell_type": "code",
   "execution_count": null,
   "id": "a335f73b",
   "metadata": {},
   "outputs": [],
   "source": [
    "left"
   ]
  },
  {
   "cell_type": "code",
   "execution_count": null,
   "id": "d71f4976",
   "metadata": {},
   "outputs": [],
   "source": [
    "right"
   ]
  },
  {
   "cell_type": "code",
   "execution_count": null,
   "id": "26329f0b",
   "metadata": {},
   "outputs": [],
   "source": [
    "pd.merge(left, right, on=\"key\")"
   ]
  },
  {
   "cell_type": "code",
   "execution_count": null,
   "id": "e1b9d258",
   "metadata": {},
   "outputs": [],
   "source": []
  },
  {
   "cell_type": "code",
   "execution_count": null,
   "id": "d4de544c",
   "metadata": {},
   "outputs": [],
   "source": []
  },
  {
   "cell_type": "code",
   "execution_count": null,
   "id": "00fa4433",
   "metadata": {},
   "outputs": [],
   "source": []
  },
  {
   "cell_type": "code",
   "execution_count": null,
   "id": "1e84ef2a",
   "metadata": {},
   "outputs": [],
   "source": [
    "#Grouping"
   ]
  },
  {
   "cell_type": "code",
   "execution_count": null,
   "id": "66f6e401",
   "metadata": {},
   "outputs": [],
   "source": [
    "df=pd.DataFrame(\n",
    "{\n",
    "    \"A\":[\"foo\", \"bar\", \"foo\", \"bar\", \"foo\",\"bar\", \"foo\", \"foo\"],\n",
    "    \"B\":[\"one\", \"one\", \"two\", \"three\", \"two\", \"two\", \"one\", \"three\"],\n",
    "    \"C\":np.random.randn(8),\n",
    "    \"D\":np.random.randn(8),\n",
    "})\n",
    "\n",
    "df"
   ]
  },
  {
   "cell_type": "code",
   "execution_count": null,
   "id": "b321e51a",
   "metadata": {},
   "outputs": [],
   "source": [
    "df.groupby(\"A\")[[\"C\", \"D\"]].sum()"
   ]
  },
  {
   "cell_type": "code",
   "execution_count": null,
   "id": "5f823f81",
   "metadata": {},
   "outputs": [],
   "source": [
    "df.groupby([\"A\", \"B\"]).sum()"
   ]
  },
  {
   "cell_type": "code",
   "execution_count": null,
   "id": "101ddf8f",
   "metadata": {},
   "outputs": [],
   "source": []
  },
  {
   "cell_type": "code",
   "execution_count": null,
   "id": "24580a3f",
   "metadata": {},
   "outputs": [],
   "source": []
  },
  {
   "cell_type": "code",
   "execution_count": null,
   "id": "7df44ffb",
   "metadata": {},
   "outputs": [],
   "source": []
  },
  {
   "cell_type": "code",
   "execution_count": null,
   "id": "6f3b2c30",
   "metadata": {},
   "outputs": [],
   "source": [
    "#Reshaping"
   ]
  },
  {
   "cell_type": "code",
   "execution_count": null,
   "id": "ab2ee5cc",
   "metadata": {},
   "outputs": [],
   "source": [
    "#stack"
   ]
  },
  {
   "cell_type": "code",
   "execution_count": null,
   "id": "c00d872d",
   "metadata": {},
   "outputs": [],
   "source": [
    "arrays=[\n",
    "    [\"bar\", \"bar\", \"baz\", \"baz\", \"foo\", \"foo\", \"qux\", \"qux\"],\n",
    "    [\"one\", \"two\", \"one\", \"two\", \"one\", \"two\", \"one\", \"two\"],\n",
    "]\n",
    "\n",
    "\n",
    "index=pd.MultiIndex.from_arrays(arrays, names=[\"first\", \"second\"])\n",
    "\n",
    "df=pd.DataFrame(np.random.randn(8,2), index=index, columns=[\"A\", \"B\"])\n",
    "\n",
    "df2=df[:4]\n",
    "\n",
    "df2"
   ]
  },
  {
   "cell_type": "code",
   "execution_count": null,
   "id": "298d231c",
   "metadata": {},
   "outputs": [],
   "source": [
    "stacked=df2.stack()\n",
    "\n",
    "stacked"
   ]
  },
  {
   "cell_type": "code",
   "execution_count": null,
   "id": "ceb52259",
   "metadata": {},
   "outputs": [],
   "source": [
    "stacked.unstack()"
   ]
  },
  {
   "cell_type": "code",
   "execution_count": null,
   "id": "7a5a43cb",
   "metadata": {},
   "outputs": [],
   "source": [
    "stacked.unstack(0)"
   ]
  },
  {
   "cell_type": "code",
   "execution_count": null,
   "id": "379e4c42",
   "metadata": {},
   "outputs": [],
   "source": [
    "stacked.unstack(1)"
   ]
  },
  {
   "cell_type": "code",
   "execution_count": null,
   "id": "31cfa826",
   "metadata": {},
   "outputs": [],
   "source": []
  },
  {
   "cell_type": "code",
   "execution_count": null,
   "id": "a6f136b7",
   "metadata": {},
   "outputs": [],
   "source": [
    "#pivot table"
   ]
  },
  {
   "cell_type": "code",
   "execution_count": null,
   "id": "cd168ff3",
   "metadata": {},
   "outputs": [],
   "source": [
    "df = pd.DataFrame(\n",
    "     {\n",
    "         \"A\": [\"one\", \"one\", \"two\", \"three\"] * 3,\n",
    "         \"B\": [\"A\", \"B\", \"C\"] * 4,\n",
    "         \"C\": [\"foo\", \"foo\", \"foo\", \"bar\", \"bar\", \"bar\"] * 2,\n",
    "         \"D\": np.random.randn(12),\n",
    "         \"E\": np.random.randn(12),\n",
    "     }\n",
    " )\n",
    " \n",
    "df"
   ]
  },
  {
   "cell_type": "code",
   "execution_count": null,
   "id": "c842307b",
   "metadata": {},
   "outputs": [],
   "source": [
    "pd.pivot_table(df, values=\"D\", index=[\"A\", \"B\"], columns=\"C\")"
   ]
  },
  {
   "cell_type": "code",
   "execution_count": null,
   "id": "1f18b571",
   "metadata": {},
   "outputs": [],
   "source": []
  },
  {
   "cell_type": "code",
   "execution_count": null,
   "id": "0c5b251f",
   "metadata": {},
   "outputs": [],
   "source": []
  },
  {
   "cell_type": "code",
   "execution_count": null,
   "id": "21305edb",
   "metadata": {},
   "outputs": [],
   "source": []
  },
  {
   "cell_type": "code",
   "execution_count": null,
   "id": "11e1b4ff",
   "metadata": {},
   "outputs": [],
   "source": [
    "#Time Series"
   ]
  },
  {
   "cell_type": "code",
   "execution_count": null,
   "id": "065e0c76",
   "metadata": {},
   "outputs": [],
   "source": [
    "rng=pd.date_range(\"1/1/2012\", periods=100, freq=\"s\")\n",
    "\n",
    "\n",
    "ts=pd.Series(np.random.randint(0, 500, len(rng)), index=rng)\n",
    "\n",
    "ts.resample(\"5Min\").sum()"
   ]
  },
  {
   "cell_type": "code",
   "execution_count": null,
   "id": "90b05f61",
   "metadata": {},
   "outputs": [],
   "source": [
    "rng=pd.date_range(\"3/6/2012  00:00\", periods=5, freq=\"D\")\n",
    "\n",
    "\n",
    "ts=pd.Series(np.random.randint(len(rng)), rng)\n",
    "\n",
    "ts"
   ]
  },
  {
   "cell_type": "code",
   "execution_count": null,
   "id": "228f39b3",
   "metadata": {},
   "outputs": [],
   "source": [
    "ts_utc=ts.tz_localize(\"UTC\")\n",
    "\n",
    "ts_utc"
   ]
  },
  {
   "cell_type": "code",
   "execution_count": null,
   "id": "28d2f662",
   "metadata": {},
   "outputs": [],
   "source": [
    "ts_utc.tz_convert(\"US/Eastern\")"
   ]
  },
  {
   "cell_type": "code",
   "execution_count": null,
   "id": "dae6b9bc",
   "metadata": {},
   "outputs": [],
   "source": [
    "rng"
   ]
  },
  {
   "cell_type": "code",
   "execution_count": null,
   "id": "d51889b6",
   "metadata": {},
   "outputs": [],
   "source": [
    "rng + pd.offsets.BusinessDay(5)"
   ]
  },
  {
   "cell_type": "code",
   "execution_count": null,
   "id": "5e210d9d",
   "metadata": {},
   "outputs": [],
   "source": [
    "rng + pd.offsets.BusinessDay(5)"
   ]
  },
  {
   "cell_type": "code",
   "execution_count": null,
   "id": "b0ba6057",
   "metadata": {},
   "outputs": [],
   "source": []
  },
  {
   "cell_type": "code",
   "execution_count": null,
   "id": "101dfdb8",
   "metadata": {},
   "outputs": [],
   "source": []
  },
  {
   "cell_type": "code",
   "execution_count": null,
   "id": "2a6c0f57",
   "metadata": {},
   "outputs": [],
   "source": []
  },
  {
   "cell_type": "code",
   "execution_count": null,
   "id": "759166d4",
   "metadata": {},
   "outputs": [],
   "source": [
    "#Categorical"
   ]
  },
  {
   "cell_type": "code",
   "execution_count": null,
   "id": "dd190734",
   "metadata": {},
   "outputs": [],
   "source": [
    "df = pd.DataFrame(\n",
    "    {\"id\": [1, 2, 3, 4, 5, 6], \"raw_grade\": [\"a\", \"b\", \"b\", \"a\", \"a\", \"e\"]}\n",
    ")"
   ]
  },
  {
   "cell_type": "code",
   "execution_count": null,
   "id": "2e8a81f3",
   "metadata": {},
   "outputs": [],
   "source": [
    "df[\"grade\"]=df[\"raw_grade\"].astype(\"category\")\n",
    "\n",
    "df[\"grade\"]"
   ]
  },
  {
   "cell_type": "code",
   "execution_count": null,
   "id": "8c6e2bc7",
   "metadata": {},
   "outputs": [],
   "source": [
    "new_categories=[\"Very Good\", \"Good\", \"Very Bad\"]\n",
    "\n",
    "df[\"grade\"]=df[\"grade\"].cat.rename_categories(new_categories)"
   ]
  },
  {
   "cell_type": "code",
   "execution_count": null,
   "id": "1886c567",
   "metadata": {},
   "outputs": [],
   "source": [
    "df[\"grade\"] = df[\"grade\"].cat.set_categories(\n",
    " [\"very bad\", \"bad\", \"medium\", \"good\", \"very good\"]\n",
    ")\n",
    "\n",
    "\n",
    "df[\"grade\"]"
   ]
  },
  {
   "cell_type": "code",
   "execution_count": null,
   "id": "4c6045a4",
   "metadata": {},
   "outputs": [],
   "source": [
    "df.sort_values(by=\"grade\")"
   ]
  },
  {
   "cell_type": "code",
   "execution_count": null,
   "id": "6ba6576f",
   "metadata": {},
   "outputs": [],
   "source": [
    "df.groupby(\"grade\", observed= False).size()"
   ]
  },
  {
   "cell_type": "code",
   "execution_count": null,
   "id": "5b513fed",
   "metadata": {},
   "outputs": [],
   "source": []
  },
  {
   "cell_type": "code",
   "execution_count": null,
   "id": "f7490160",
   "metadata": {},
   "outputs": [],
   "source": []
  },
  {
   "cell_type": "code",
   "execution_count": null,
   "id": "8c61907f",
   "metadata": {},
   "outputs": [],
   "source": []
  },
  {
   "cell_type": "code",
   "execution_count": null,
   "id": "ed79f40d",
   "metadata": {},
   "outputs": [],
   "source": [
    "#Plotting"
   ]
  },
  {
   "cell_type": "code",
   "execution_count": null,
   "id": "b2889a66",
   "metadata": {},
   "outputs": [],
   "source": [
    "import matplotlib.pyplot as plt\n",
    "plt.close(\"all\")"
   ]
  },
  {
   "cell_type": "code",
   "execution_count": null,
   "id": "cca75baf",
   "metadata": {},
   "outputs": [],
   "source": [
    "ts= pd.Series(np.random.randn(1000), index=pd.date_range(\"1/1/2000\", periods=1000))\n",
    "\n",
    "ts=ts.cumsum()\n",
    "\n",
    "ts.plot()"
   ]
  },
  {
   "cell_type": "code",
   "execution_count": null,
   "id": "b460f231",
   "metadata": {},
   "outputs": [],
   "source": [
    "df=pd.DataFrame(\n",
    "np.random.randn(1000, 4), index=ts.index, columns=[\"A\", \"B\", \"C\", \"D\"])\n",
    "\n",
    "df=df.cumsum()\n",
    "\n",
    "plt.figure()\n",
    "\n",
    "df.plot()\n",
    "\n",
    "plt.legend(loc=\"best\")"
   ]
  },
  {
   "cell_type": "code",
   "execution_count": null,
   "id": "42f6a9d5",
   "metadata": {},
   "outputs": [],
   "source": []
  },
  {
   "cell_type": "code",
   "execution_count": null,
   "id": "4cc43cc6",
   "metadata": {},
   "outputs": [],
   "source": []
  },
  {
   "cell_type": "code",
   "execution_count": null,
   "id": "1bdadcf5",
   "metadata": {},
   "outputs": [],
   "source": []
  },
  {
   "cell_type": "code",
   "execution_count": null,
   "id": "8371ca44",
   "metadata": {},
   "outputs": [],
   "source": [
    "#Importing and Exporting CSV"
   ]
  },
  {
   "cell_type": "code",
   "execution_count": null,
   "id": "9698ccbe",
   "metadata": {},
   "outputs": [],
   "source": [
    "#Writing a csv file"
   ]
  },
  {
   "cell_type": "code",
   "execution_count": null,
   "id": "dda7e2e6",
   "metadata": {},
   "outputs": [],
   "source": [
    "df=pd.DataFrame(np.random.randint(0,5,(10, 5)))\n",
    "\n",
    "df.to_csv(\"foo.csv\")"
   ]
  },
  {
   "cell_type": "code",
   "execution_count": null,
   "id": "ec586cfe",
   "metadata": {},
   "outputs": [],
   "source": []
  },
  {
   "cell_type": "code",
   "execution_count": null,
   "id": "2444dcde",
   "metadata": {},
   "outputs": [],
   "source": [
    "#Reading a csv"
   ]
  },
  {
   "cell_type": "code",
   "execution_count": null,
   "id": "639ca289",
   "metadata": {},
   "outputs": [],
   "source": [
    "pd.read_csv(\"foo.csv\")"
   ]
  },
  {
   "cell_type": "code",
   "execution_count": null,
   "id": "097ac633",
   "metadata": {},
   "outputs": [],
   "source": []
  },
  {
   "cell_type": "code",
   "execution_count": null,
   "id": "a6bfe89f",
   "metadata": {},
   "outputs": [],
   "source": []
  },
  {
   "cell_type": "code",
   "execution_count": null,
   "id": "356731a6",
   "metadata": {},
   "outputs": [],
   "source": []
  },
  {
   "cell_type": "code",
   "execution_count": null,
   "id": "d3efdf4d",
   "metadata": {},
   "outputs": [],
   "source": [
    "#praquet"
   ]
  },
  {
   "cell_type": "code",
   "execution_count": null,
   "id": "18df825c",
   "metadata": {},
   "outputs": [],
   "source": [
    "df.to_parquet(\"foo.parquet\")"
   ]
  },
  {
   "cell_type": "code",
   "execution_count": null,
   "id": "5946f9d7",
   "metadata": {},
   "outputs": [],
   "source": [
    "pd.read_parquet(\"foo.parquet\")"
   ]
  },
  {
   "cell_type": "code",
   "execution_count": null,
   "id": "7a3bea19",
   "metadata": {},
   "outputs": [],
   "source": []
  },
  {
   "cell_type": "code",
   "execution_count": null,
   "id": "d17116cb",
   "metadata": {},
   "outputs": [],
   "source": []
  },
  {
   "cell_type": "code",
   "execution_count": null,
   "id": "2ffdd0cd",
   "metadata": {},
   "outputs": [],
   "source": []
  },
  {
   "cell_type": "code",
   "execution_count": null,
   "id": "fd40b64c",
   "metadata": {},
   "outputs": [],
   "source": [
    "#Excel"
   ]
  },
  {
   "cell_type": "code",
   "execution_count": 55,
   "id": "c3654cac",
   "metadata": {},
   "outputs": [],
   "source": [
    "df.to_excel(\"foo.xlsx\", sheet_name=\"Sheet1\")"
   ]
  },
  {
   "cell_type": "code",
   "execution_count": 56,
   "id": "8077aff5",
   "metadata": {},
   "outputs": [
    {
     "data": {
      "text/html": [
       "<div>\n",
       "<style scoped>\n",
       "    .dataframe tbody tr th:only-of-type {\n",
       "        vertical-align: middle;\n",
       "    }\n",
       "\n",
       "    .dataframe tbody tr th {\n",
       "        vertical-align: top;\n",
       "    }\n",
       "\n",
       "    .dataframe thead th {\n",
       "        text-align: right;\n",
       "    }\n",
       "</style>\n",
       "<table border=\"1\" class=\"dataframe\">\n",
       "  <thead>\n",
       "    <tr style=\"text-align: right;\">\n",
       "      <th></th>\n",
       "      <th>Unnamed: 0</th>\n",
       "      <th>A</th>\n",
       "      <th>B</th>\n",
       "      <th>C</th>\n",
       "      <th>D</th>\n",
       "    </tr>\n",
       "  </thead>\n",
       "  <tbody>\n",
       "    <tr>\n",
       "      <th>0</th>\n",
       "      <td>2013-01-01</td>\n",
       "      <td>0.000000</td>\n",
       "      <td>0.000000</td>\n",
       "      <td>-1.514498</td>\n",
       "      <td>5</td>\n",
       "    </tr>\n",
       "    <tr>\n",
       "      <th>1</th>\n",
       "      <td>2013-01-02</td>\n",
       "      <td>-0.297073</td>\n",
       "      <td>-1.698189</td>\n",
       "      <td>0.025104</td>\n",
       "      <td>5</td>\n",
       "    </tr>\n",
       "    <tr>\n",
       "      <th>2</th>\n",
       "      <td>2013-01-03</td>\n",
       "      <td>1.166979</td>\n",
       "      <td>0.132292</td>\n",
       "      <td>0.393677</td>\n",
       "      <td>5</td>\n",
       "    </tr>\n",
       "    <tr>\n",
       "      <th>3</th>\n",
       "      <td>2013-01-04</td>\n",
       "      <td>-1.596401</td>\n",
       "      <td>2.048516</td>\n",
       "      <td>0.003408</td>\n",
       "      <td>5</td>\n",
       "    </tr>\n",
       "    <tr>\n",
       "      <th>4</th>\n",
       "      <td>2013-01-05</td>\n",
       "      <td>-0.981598</td>\n",
       "      <td>-0.917616</td>\n",
       "      <td>1.831406</td>\n",
       "      <td>5</td>\n",
       "    </tr>\n",
       "    <tr>\n",
       "      <th>5</th>\n",
       "      <td>2013-01-06</td>\n",
       "      <td>0.168124</td>\n",
       "      <td>-1.520638</td>\n",
       "      <td>-1.004770</td>\n",
       "      <td>5</td>\n",
       "    </tr>\n",
       "  </tbody>\n",
       "</table>\n",
       "</div>"
      ],
      "text/plain": [
       "  Unnamed: 0         A         B         C  D\n",
       "0 2013-01-01  0.000000  0.000000 -1.514498  5\n",
       "1 2013-01-02 -0.297073 -1.698189  0.025104  5\n",
       "2 2013-01-03  1.166979  0.132292  0.393677  5\n",
       "3 2013-01-04 -1.596401  2.048516  0.003408  5\n",
       "4 2013-01-05 -0.981598 -0.917616  1.831406  5\n",
       "5 2013-01-06  0.168124 -1.520638 -1.004770  5"
      ]
     },
     "execution_count": 56,
     "metadata": {},
     "output_type": "execute_result"
    }
   ],
   "source": [
    "pd.read_excel(\"foo.xlsx\", \"Sheet1\", index_col=None, na_values=[\"NA\"])"
   ]
  },
  {
   "cell_type": "code",
   "execution_count": null,
   "id": "fbe53f0c",
   "metadata": {},
   "outputs": [],
   "source": []
  }
 ],
 "metadata": {
  "kernelspec": {
   "display_name": "Python 3 (ipykernel)",
   "language": "python",
   "name": "python3"
  },
  "language_info": {
   "codemirror_mode": {
    "name": "ipython",
    "version": 3
   },
   "file_extension": ".py",
   "mimetype": "text/x-python",
   "name": "python",
   "nbconvert_exporter": "python",
   "pygments_lexer": "ipython3",
   "version": "3.11.3"
  }
 },
 "nbformat": 4,
 "nbformat_minor": 5
}
